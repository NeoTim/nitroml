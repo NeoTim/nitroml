{
 "cells": [
  {
   "cell_type": "code",
   "execution_count": null,
   "metadata": {},
   "outputs": [],
   "source": [
    "%matplotlib inline"
   ]
  },
  {
   "cell_type": "code",
   "execution_count": null,
   "metadata": {},
   "outputs": [],
   "source": [
    "import config\n",
    "import json\n",
    "import os\n",
    "import tensorflow as tf\n",
    "import tuner_data_utils as tuner_utils\n",
    "\n",
    "#3129\n",
    "#3207\n",
    "#3246 - \n",
    "#3319 - seems okay\n",
    "\n",
    "plot_data_dir = os.path.join(config.PIPELINE_ROOT, 'AugmentedTuner.test_OpenML.dressessales.MetaLearningBenchmark.benchmark.OpenML.dressessales', \n",
    "                             'trial_summary_plot', '3319')\n",
    "print (tf.io.gfile.listdir(plot_data_dir))\n"
   ]
  },
  {
   "cell_type": "code",
   "execution_count": null,
   "metadata": {},
   "outputs": [],
   "source": [
    "with tf.io.gfile.GFile(os.path.join(plot_data_dir, 'tuner_plot_data.txt'), mode='r') as fin:\n",
    "    data = json.load(fin)\n",
    "    print (data)"
   ]
  },
  {
   "cell_type": "code",
   "execution_count": null,
   "metadata": {},
   "outputs": [],
   "source": [
    "tuner_utils.display_tuner_data(data)"
   ]
  },
  {
   "cell_type": "code",
   "execution_count": null,
   "metadata": {},
   "outputs": [],
   "source": []
  }
 ],
 "metadata": {
  "environment": {
   "name": "tf2-gpu.2-1.m48",
   "type": "gcloud",
   "uri": "gcr.io/deeplearning-platform-release/tf2-gpu.2-1:m48"
  },
  "kernelspec": {
   "display_name": "Python 3",
   "language": "python",
   "name": "python3"
  },
  "language_info": {
   "codemirror_mode": {
    "name": "ipython",
    "version": 3
   },
   "file_extension": ".py",
   "mimetype": "text/x-python",
   "name": "python",
   "nbconvert_exporter": "python",
   "pygments_lexer": "ipython3",
   "version": "3.7.6"
  }
 },
 "nbformat": 4,
 "nbformat_minor": 4
}
