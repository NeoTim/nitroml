{
 "cells": [
  {
   "cell_type": "code",
   "execution_count": 1,
   "metadata": {},
   "outputs": [
    {
     "name": "stdout",
     "output_type": "stream",
     "text": [
      "  % Total    % Received % Xferd  Average Speed   Time    Time     Time  Current\n",
      "                                 Dload  Upload   Total   Spent    Left  Speed\n",
      "100 44.6M  100 44.6M    0     0   135M      0 --:--:-- --:--:-- --:--:--  135M\n"
     ]
    }
   ],
   "source": [
    "import sys\n",
    "\n",
    "# install kfp (https://kubeflow-pipelines.readthedocs.io/en/latest/source/kfp.html)\n",
    "!{sys.executable} -m pip install --user --upgrade -q kfp==0.4.0\n",
    "\n",
    "# Download skaffold and set it executable.\n",
    "!curl -Lo skaffold https://storage.googleapis.com/skaffold/releases/latest/skaffold-linux-amd64 && chmod +x skaffold && mv skaffold /home/jupyter/.local/bin/"
   ]
  },
  {
   "cell_type": "code",
   "execution_count": 2,
   "metadata": {},
   "outputs": [
    {
     "name": "stdout",
     "output_type": "stream",
     "text": [
      "TFX version: 0.22.0\n"
     ]
    }
   ],
   "source": [
    "# !{sys.executable} -m pip install --user --upgrade -q tfx==0.22.0\n",
    "!python3 -c \"import tfx; print('TFX version: {}'.format(tfx.__version__))\""
   ]
  },
  {
   "cell_type": "code",
   "execution_count": 3,
   "metadata": {},
   "outputs": [
    {
     "name": "stdout",
     "output_type": "stream",
     "text": [
      "env: PATH=/usr/local/cuda/bin:/opt/conda/bin:/opt/conda/condabin:/usr/local/bin:/usr/bin:/bin:/usr/local/games:/usr/games:/home/jupyter/.local/bin\n"
     ]
    }
   ],
   "source": [
    "# Set `PATH` to include user python binary directory and a directory containing `skaffold`.\n",
    "PATH=%env PATH\n",
    "%env PATH={PATH}:/home/jupyter/.local/bin"
   ]
  },
  {
   "cell_type": "code",
   "execution_count": 4,
   "metadata": {},
   "outputs": [
    {
     "name": "stdout",
     "output_type": "stream",
     "text": [
      "GCP project ID:nitroml-brain-xgcp\n"
     ]
    }
   ],
   "source": [
    "# Read GCP project id from env.\n",
    "shell_output=!gcloud config list --format 'value(core.project)' 2>/dev/null\n",
    "GCP_PROJECT_ID=shell_output[0]\n",
    "print(\"GCP project ID:\" + GCP_PROJECT_ID)"
   ]
  },
  {
   "cell_type": "markdown",
   "metadata": {},
   "source": [
    "# Set KFP Cluster End point"
   ]
  },
  {
   "cell_type": "code",
   "execution_count": 5,
   "metadata": {},
   "outputs": [],
   "source": [
    "# This refers to the KFP cluster endpoint\n",
    "ENDPOINT='ee1a2cabbbc2f13-dot-us-east1.pipelines.googleusercontent.com' # Enter your ENDPOINT here.\n",
    "if not ENDPOINT:\n",
    "    from absl import logging\n",
    "    logging.error('Set your ENDPOINT in this cell.')"
   ]
  },
  {
   "cell_type": "code",
   "execution_count": 6,
   "metadata": {},
   "outputs": [],
   "source": [
    "# Docker image name for the pipeline image \n",
    "IMAGE_NAME = 'nitroml_benchmark2'\n",
    "CUSTOM_TFX_IMAGE='gcr.io/' + GCP_PROJECT_ID + '/' + IMAGE_NAME"
   ]
  },
  {
   "cell_type": "code",
   "execution_count": 10,
   "metadata": {},
   "outputs": [
    {
     "name": "stdout",
     "output_type": "stream",
     "text": [
      "/home/jupyter/AIHub/nitroml/examples\n"
     ]
    }
   ],
   "source": [
    "import os\n",
    "PROJECT_DIR=os.path.join(os.path.expanduser(\"~\"), \"AIHub\" , 'nitroml', 'examples')\n",
    "%cd {PROJECT_DIR}"
   ]
  },
  {
   "cell_type": "code",
   "execution_count": 17,
   "metadata": {},
   "outputs": [],
   "source": [
    "from examples import config\n",
    "PIPELINE_NAME=config.PIPELINE_NAME"
   ]
  },
  {
   "cell_type": "code",
   "execution_count": 19,
   "metadata": {},
   "outputs": [
    {
     "data": {
      "text/plain": [
       "'titanic_benchmark'"
      ]
     },
     "execution_count": 19,
     "metadata": {},
     "output_type": "execute_result"
    }
   ],
   "source": [
    "PIPELINE_NAME"
   ]
  },
  {
   "cell_type": "markdown",
   "metadata": {},
   "source": [
    "## Run the tfx pipeline"
   ]
  },
  {
   "cell_type": "code",
   "execution_count": 13,
   "metadata": {},
   "outputs": [
    {
     "name": "stdout",
     "output_type": "stream",
     "text": [
      "CLI\n",
      "Creating pipeline\n",
      "Detected Kubeflow.\n",
      "Use --engine flag if you intend to use a different orchestrator.\n",
      "Reading build spec from build.yaml\n",
      "Target image gcr.io/nitroml-brain-xgcp/nitroml_benchmark2 is not used. If the build spec is provided, update the target image in the build spec file build.yaml.\n",
      "Use skaffold to build the container image.\n",
      "/home/jupyter/.local/bin/skaffold\n",
      "New container image is built. Target image is available in the build spec file.\n",
      "/home/jupyter/.local/lib/python3.7/site-packages/tfx/orchestration/data_types.py:191: UserWarning: RuntimeParameter is only supported on KubeflowDagRunner currently.\n",
      "  warnings.warn('RuntimeParameter is only supported on KubeflowDagRunner '\n",
      "I0626 12:51:31.939515 139867575141760 dataset_info.py:361] Load dataset info from /home/jupyter/tensorflow_datasets/titanic/2.0.0\n",
      "I0626 12:51:31.941812 139867575141760 tfds_dataset.py:46] Preparing dataset...\n",
      "I0626 12:51:31.942105 139867575141760 dataset_builder.py:282] Reusing dataset titanic (/home/jupyter/tensorflow_datasets/titanic/2.0.0)\n",
      "I0626 12:51:31.942222 139867575141760 tfds_dataset.py:48] tfds.core.DatasetInfo(\n",
      "    name='titanic',\n",
      "    version=2.0.0,\n",
      "    description='Dataset describing the survival status of individual passengers on the Titanic. Missing values in the original dataset are represented using ?. Float and int missing values are replaced with -1, string missing values are replaced with 'Unknown'.',\n",
      "    homepage='https://www.openml.org/d/40945',\n",
      "    features=FeaturesDict({\n",
      "        'features': FeaturesDict({\n",
      "            'age': tf.float32,\n",
      "            'boat': tf.string,\n",
      "            'body': tf.int32,\n",
      "            'cabin': tf.string,\n",
      "            'embarked': ClassLabel(shape=(), dtype=tf.int64, num_classes=4),\n",
      "            'fare': tf.float32,\n",
      "            'home.dest': tf.string,\n",
      "            'name': tf.string,\n",
      "            'parch': tf.int32,\n",
      "            'pclass': ClassLabel(shape=(), dtype=tf.int64, num_classes=3),\n",
      "            'sex': ClassLabel(shape=(), dtype=tf.int64, num_classes=2),\n",
      "            'sibsp': tf.int32,\n",
      "            'ticket': tf.string,\n",
      "        }),\n",
      "        'survived': ClassLabel(shape=(), dtype=tf.int64, num_classes=2),\n",
      "    }),\n",
      "    total_num_examples=1309,\n",
      "    splits={\n",
      "        'train': 1309,\n",
      "    },\n",
      "    supervised_keys=('features', 'survived'),\n",
      "    citation=\"\"\"@ONLINE {titanic,\n",
      "    author = \"Frank E. Harrell Jr., Thomas Cason\",\n",
      "    title  = \"Titanic dataset\",\n",
      "    month  = \"oct\",\n",
      "    year   = \"2017\",\n",
      "    url    = \"https://www.openml.org/d/40945\"\n",
      "    }\"\"\",\n",
      "    redistribution_info=,\n",
      ")\n",
      "\n",
      "I0626 12:51:31.943259 139867575141760 tfds_dataset.py:64] Splits: [name: \"train\"\n",
      "pattern: \"/home/jupyter/tensorflow_datasets/titanic/2.0.0/titanic-train.tfrecord-00000-of-00001\"\n",
      "]\n",
      "I0626 12:51:31.945214 139867575141760 component.py:131] Neither eval_config nor feature_slicing_spec is passed, the model is treated as estimator.\n",
      "W0626 12:51:31.945337 139867575141760 component.py:142] feature_slicing_spec is deprecated, please use eval_config instead.\n",
      "I0626 12:51:32.068667 139867575141760 nitroml.py:211] NitroML benchmarks:\n",
      "I0626 12:51:32.068901 139867575141760 nitroml.py:214] \tTitanicBenchmark.benchmark\n",
      "I0626 12:51:32.069019 139867575141760 nitroml.py:215] \t\tRUNNING\n",
      "I0626 12:51:32.079772 139867575141760 base_component.py:137] Adding upstream dependencies for component ImportExampleGen_TitanicBenchmark_benchmark\n",
      "I0626 12:51:32.081223 139867575141760 base_component.py:137] Adding upstream dependencies for component StatisticsGen_TitanicBenchmark_benchmark\n",
      "I0626 12:51:32.081376 139867575141760 base_component.py:139]    ->  Component: ImportExampleGen_TitanicBenchmark_benchmark\n",
      "I0626 12:51:32.082592 139867575141760 base_component.py:137] Adding upstream dependencies for component SchemaGen_TitanicBenchmark_benchmark\n",
      "I0626 12:51:32.082717 139867575141760 base_component.py:139]    ->  Component: StatisticsGen_TitanicBenchmark_benchmark\n",
      "I0626 12:51:32.084314 139867575141760 base_component.py:137] Adding upstream dependencies for component Transform_TitanicBenchmark_benchmark\n",
      "I0626 12:51:32.084442 139867575141760 base_component.py:139]    ->  Component: SchemaGen_TitanicBenchmark_benchmark\n",
      "I0626 12:51:32.084533 139867575141760 base_component.py:139]    ->  Component: ImportExampleGen_TitanicBenchmark_benchmark\n",
      "I0626 12:51:32.086369 139867575141760 base_component.py:137] Adding upstream dependencies for component Trainer_TitanicBenchmark_benchmark\n",
      "I0626 12:51:32.086498 139867575141760 base_component.py:139]    ->  Component: SchemaGen_TitanicBenchmark_benchmark\n",
      "I0626 12:51:32.086595 139867575141760 base_component.py:139]    ->  Component: Transform_TitanicBenchmark_benchmark\n",
      "I0626 12:51:32.088526 139867575141760 base_component.py:137] Adding upstream dependencies for component Evaluator_TitanicBenchmark_benchmark\n",
      "I0626 12:51:32.088640 139867575141760 base_component.py:139]    ->  Component: ImportExampleGen_TitanicBenchmark_benchmark\n",
      "I0626 12:51:32.088728 139867575141760 base_component.py:139]    ->  Component: Trainer_TitanicBenchmark_benchmark\n",
      "I0626 12:51:32.089729 139867575141760 base_component.py:137] Adding upstream dependencies for component BenchmarkResultPublisher_TitanicBenchmark_benchmark\n",
      "I0626 12:51:32.089838 139867575141760 base_component.py:139]    ->  Component: Evaluator_TitanicBenchmark_benchmark\n",
      "Pipeline compiled successfully.\n",
      "Pipeline package path: /home/jupyter/AIHub/nitroml/examples/titanic_benchmark.tar.gz\n",
      "{'created_at': datetime.datetime(2020, 6, 26, 12, 51, 33, tzinfo=tzlocal()),\n",
      " 'default_version': {'code_source_url': None,\n",
      "                     'created_at': datetime.datetime(2020, 6, 26, 12, 51, 33, tzinfo=tzlocal()),\n",
      "                     'id': 'a8ae4d17-508c-4e9a-be36-2648d9414271',\n",
      "                     'name': 'titanic_benchmark',\n",
      "                     'package_url': None,\n",
      "                     'parameters': [{'name': 'pipeline-root',\n",
      "                                     'value': 'gs://artifacts.nitroml-brain-xgcp.appspot.com/tfx_pipeline_output'}],\n",
      "                     'resource_references': [{'key': {'id': 'a8ae4d17-508c-4e9a-be36-2648d9414271',\n",
      "                                                      'type': 'PIPELINE'},\n",
      "                                              'name': None,\n",
      "                                              'relationship': 'OWNER'}]},\n",
      " 'description': None,\n",
      " 'error': None,\n",
      " 'id': 'a8ae4d17-508c-4e9a-be36-2648d9414271',\n",
      " 'name': 'titanic_benchmark',\n",
      " 'parameters': [{'name': 'pipeline-root',\n",
      "                 'value': 'gs://artifacts.nitroml-brain-xgcp.appspot.com/tfx_pipeline_output'}],\n",
      " 'url': None}\n",
      "Please access the pipeline detail page at http://ee1a2cabbbc2f13-dot-us-east1.pipelines.googleusercontent.com/#/pipelines/details/a8ae4d17-508c-4e9a-be36-2648d9414271\n",
      "Pipeline \"titanic_benchmark\" created successfully.\n"
     ]
    }
   ],
   "source": [
    "!tfx pipeline create  \\\n",
    "--pipeline-path=kubeflow_dag_runner.py \\\n",
    "--endpoint={ENDPOINT} \\\n",
    "--build-target-image={CUSTOM_TFX_IMAGE}"
   ]
  },
  {
   "cell_type": "code",
   "execution_count": 54,
   "metadata": {},
   "outputs": [
    {
     "name": "stdout",
     "output_type": "stream",
     "text": [
      "CLI\n",
      "Creating a run for pipeline: nitroml_benchmark\n",
      "Detected Kubeflow.\n",
      "Use --engine flag if you intend to use a different orchestrator.\n",
      "Run created for pipeline: nitroml_benchmark\n",
      "+-------------------+--------------------------------------+----------+---------------------------+-------------------------------------------------------------------------------------------------------------------------+\n",
      "| pipeline_name     | run_id                               | status   | created_at                | link                                                                                                                    |\n",
      "+===================+======================================+==========+===========================+=========================================================================================================================+\n",
      "| nitroml_benchmark | 383a4e61-9b39-4633-a247-cf605c0abdfd |          | 2020-06-25T23:55:17+00:00 | http://ee1a2cabbbc2f13-dot-us-east1.pipelines.googleusercontent.com/#/runs/details/383a4e61-9b39-4633-a247-cf605c0abdfd |\n",
      "+-------------------+--------------------------------------+----------+---------------------------+-------------------------------------------------------------------------------------------------------------------------+\n"
     ]
    }
   ],
   "source": [
    "!tfx run create --pipeline-name='nitroml_benchmark' --endpoint={ENDPOINT}"
   ]
  },
  {
   "cell_type": "code",
   "execution_count": 35,
   "metadata": {},
   "outputs": [
    {
     "name": "stdout",
     "output_type": "stream",
     "text": [
      "CLI\n",
      "Updating pipeline\n",
      "Detected Kubeflow.\n",
      "Use --engine flag if you intend to use a different orchestrator.\n",
      "Reading build spec from build.yaml\n",
      "Use skaffold to build the container image.\n",
      "/home/jupyter/.local/bin/skaffold\n",
      "New container image is built. Target image is available in the build spec file.\n",
      "/home/jupyter/.local/lib/python3.7/site-packages/tfx/orchestration/data_types.py:191: UserWarning: RuntimeParameter is only supported on KubeflowDagRunner currently.\n",
      "  warnings.warn('RuntimeParameter is only supported on KubeflowDagRunner '\n",
      "I0626 15:07:04.555761 139815216985472 nitroml.py:493] KUBEFLOW_TFX_IMAGE: gcr.io/nitroml-brain-xgcp/nitroml_benchmark@sha256:675febfd333ed463e316ccdf8f096c8035b174904d690b5bd9e5835755b78d6f\n",
      "I0626 15:07:04.768827 139815216985472 dataset_info.py:361] Load dataset info from gs://artifacts.nitroml-brain-xgcp.appspot.com/tensorflow-datasets/titanic/2.0.0\n",
      "I0626 15:07:05.428758 139815216985472 tfds_dataset.py:46] Preparing dataset...\n",
      "I0626 15:07:05.463959 139815216985472 dataset_builder.py:282] Reusing dataset titanic (gs://artifacts.nitroml-brain-xgcp.appspot.com/tensorflow-datasets/titanic/2.0.0)\n",
      "I0626 15:07:05.464174 139815216985472 tfds_dataset.py:48] tfds.core.DatasetInfo(\n",
      "    name='titanic',\n",
      "    version=2.0.0,\n",
      "    description='Dataset describing the survival status of individual passengers on the Titanic. Missing values in the original dataset are represented using ?. Float and int missing values are replaced with -1, string missing values are replaced with 'Unknown'.',\n",
      "    homepage='https://www.openml.org/d/40945',\n",
      "    features=FeaturesDict({\n",
      "        'features': FeaturesDict({\n",
      "            'age': tf.float32,\n",
      "            'boat': tf.string,\n",
      "            'body': tf.int32,\n",
      "            'cabin': tf.string,\n",
      "            'embarked': ClassLabel(shape=(), dtype=tf.int64, num_classes=4),\n",
      "            'fare': tf.float32,\n",
      "            'home.dest': tf.string,\n",
      "            'name': tf.string,\n",
      "            'parch': tf.int32,\n",
      "            'pclass': ClassLabel(shape=(), dtype=tf.int64, num_classes=3),\n",
      "            'sex': ClassLabel(shape=(), dtype=tf.int64, num_classes=2),\n",
      "            'sibsp': tf.int32,\n",
      "            'ticket': tf.string,\n",
      "        }),\n",
      "        'survived': ClassLabel(shape=(), dtype=tf.int64, num_classes=2),\n",
      "    }),\n",
      "    total_num_examples=1309,\n",
      "    splits={\n",
      "        'train': 1309,\n",
      "    },\n",
      "    supervised_keys=('features', 'survived'),\n",
      "    citation=\"\"\"@ONLINE {titanic,\n",
      "    author = \"Frank E. Harrell Jr., Thomas Cason\",\n",
      "    title  = \"Titanic dataset\",\n",
      "    month  = \"oct\",\n",
      "    year   = \"2017\",\n",
      "    url    = \"https://www.openml.org/d/40945\"\n",
      "    }\"\"\",\n",
      "    redistribution_info=,\n",
      ")\n",
      "\n",
      "I0626 15:07:05.465358 139815216985472 tfds_dataset.py:64] Splits: [name: \"train\"\n",
      "pattern: \"titanic-train.tfrecord-00000-of-00001\"\n",
      "]\n",
      "I0626 15:07:05.467366 139815216985472 component.py:131] Neither eval_config nor feature_slicing_spec is passed, the model is treated as estimator.\n",
      "W0626 15:07:05.467546 139815216985472 component.py:142] feature_slicing_spec is deprecated, please use eval_config instead.\n",
      "I0626 15:07:05.679292 139815216985472 nitroml.py:211] NitroML benchmarks:\n",
      "I0626 15:07:05.679723 139815216985472 nitroml.py:214] \tTitanicBenchmark.benchmark\n",
      "I0626 15:07:05.679909 139815216985472 nitroml.py:215] \t\tRUNNING\n",
      "I0626 15:07:05.691258 139815216985472 base_component.py:137] Adding upstream dependencies for component ImportExampleGen_TitanicBenchmark_benchmark\n",
      "I0626 15:07:05.692848 139815216985472 base_component.py:137] Adding upstream dependencies for component StatisticsGen_TitanicBenchmark_benchmark\n",
      "I0626 15:07:05.693015 139815216985472 base_component.py:139]    ->  Component: ImportExampleGen_TitanicBenchmark_benchmark\n",
      "I0626 15:07:05.694216 139815216985472 base_component.py:137] Adding upstream dependencies for component SchemaGen_TitanicBenchmark_benchmark\n",
      "I0626 15:07:05.694358 139815216985472 base_component.py:139]    ->  Component: StatisticsGen_TitanicBenchmark_benchmark\n",
      "I0626 15:07:05.696177 139815216985472 base_component.py:137] Adding upstream dependencies for component Transform_TitanicBenchmark_benchmark\n",
      "I0626 15:07:05.696307 139815216985472 base_component.py:139]    ->  Component: SchemaGen_TitanicBenchmark_benchmark\n",
      "I0626 15:07:05.696410 139815216985472 base_component.py:139]    ->  Component: ImportExampleGen_TitanicBenchmark_benchmark\n",
      "I0626 15:07:05.698005 139815216985472 base_component.py:137] Adding upstream dependencies for component Trainer_TitanicBenchmark_benchmark\n",
      "I0626 15:07:05.698131 139815216985472 base_component.py:139]    ->  Component: SchemaGen_TitanicBenchmark_benchmark\n",
      "I0626 15:07:05.698237 139815216985472 base_component.py:139]    ->  Component: Transform_TitanicBenchmark_benchmark\n",
      "I0626 15:07:05.699842 139815216985472 base_component.py:137] Adding upstream dependencies for component Evaluator_TitanicBenchmark_benchmark\n",
      "I0626 15:07:05.699962 139815216985472 base_component.py:139]    ->  Component: Trainer_TitanicBenchmark_benchmark\n",
      "I0626 15:07:05.700064 139815216985472 base_component.py:139]    ->  Component: ImportExampleGen_TitanicBenchmark_benchmark\n",
      "I0626 15:07:05.701131 139815216985472 base_component.py:137] Adding upstream dependencies for component BenchmarkResultPublisher_TitanicBenchmark_benchmark\n",
      "I0626 15:07:05.701245 139815216985472 base_component.py:139]    ->  Component: Evaluator_TitanicBenchmark_benchmark\n",
      "Pipeline compiled successfully.\n",
      "Pipeline package path: /home/jupyter/AIHub/nitroml/examples/titanic_benchmark.tar.gz\n",
      "{'code_source_url': None,\n",
      " 'created_at': datetime.datetime(2020, 6, 26, 15, 7, 6, tzinfo=tzlocal()),\n",
      " 'id': '4c706a41-9024-415d-a1bf-aad7312c4af4',\n",
      " 'name': 'titanic_benchmark_20200626150706',\n",
      " 'package_url': None,\n",
      " 'parameters': [{'name': 'pipeline-root',\n",
      "                 'value': 'gs://artifacts.nitroml-brain-xgcp.appspot.com/tfx_pipeline_output'}],\n",
      " 'resource_references': [{'key': {'id': 'a8ae4d17-508c-4e9a-be36-2648d9414271',\n",
      "                                  'type': 'PIPELINE'},\n",
      "                          'name': None,\n",
      "                          'relationship': 'OWNER'}]}\n",
      "Please access the pipeline detail page at http://ee1a2cabbbc2f13-dot-us-east1.pipelines.googleusercontent.com/#/pipelines/details/a8ae4d17-508c-4e9a-be36-2648d9414271\n",
      "Pipeline \"titanic_benchmark\" updated successfully.\n"
     ]
    }
   ],
   "source": [
    "# Update the pipeline\n",
    "!tfx pipeline update \\\n",
    "--pipeline-path=kubeflow_dag_runner.py \\\n",
    "--endpoint={ENDPOINT}"
   ]
  },
  {
   "cell_type": "code",
   "execution_count": 34,
   "metadata": {},
   "outputs": [
    {
     "name": "stdout",
     "output_type": "stream",
     "text": [
      "CLI\n",
      "Creating a run for pipeline: titanic_benchmark\n",
      "Detected Kubeflow.\n",
      "Use --engine flag if you intend to use a different orchestrator.\n",
      "Run created for pipeline: titanic_benchmark\n",
      "+-------------------+--------------------------------------+----------+---------------------------+-------------------------------------------------------------------------------------------------------------------------+\n",
      "| pipeline_name     | run_id                               | status   | created_at                | link                                                                                                                    |\n",
      "+===================+======================================+==========+===========================+=========================================================================================================================+\n",
      "| titanic_benchmark | f6ec35ce-861f-4913-8595-4248e36614d3 |          | 2020-06-26T14:27:08+00:00 | http://ee1a2cabbbc2f13-dot-us-east1.pipelines.googleusercontent.com/#/runs/details/f6ec35ce-861f-4913-8595-4248e36614d3 |\n",
      "+-------------------+--------------------------------------+----------+---------------------------+-------------------------------------------------------------------------------------------------------------------------+\n"
     ]
    }
   ],
   "source": [
    "!tfx run create --pipeline-name {PIPELINE_NAME} --endpoint={ENDPOINT}"
   ]
  },
  {
   "cell_type": "code",
   "execution_count": 37,
   "metadata": {},
   "outputs": [],
   "source": [
    "tfx_image = os.environ.get('KUBEFLOW_TFX_IMAGE', None)"
   ]
  },
  {
   "cell_type": "code",
   "execution_count": 38,
   "metadata": {},
   "outputs": [
    {
     "name": "stdout",
     "output_type": "stream",
     "text": [
      "None\n"
     ]
    }
   ],
   "source": [
    "print (tfx_image)"
   ]
  },
  {
   "cell_type": "code",
   "execution_count": null,
   "metadata": {},
   "outputs": [],
   "source": []
  }
 ],
 "metadata": {
  "environment": {
   "name": "tf2-gpu.2-1.m48",
   "type": "gcloud",
   "uri": "gcr.io/deeplearning-platform-release/tf2-gpu.2-1:m48"
  },
  "kernelspec": {
   "display_name": "Python 3",
   "language": "python",
   "name": "python3"
  },
  "language_info": {
   "codemirror_mode": {
    "name": "ipython",
    "version": 3
   },
   "file_extension": ".py",
   "mimetype": "text/x-python",
   "name": "python",
   "nbconvert_exporter": "python",
   "pygments_lexer": "ipython3",
   "version": "3.7.6"
  }
 },
 "nbformat": 4,
 "nbformat_minor": 4
}
