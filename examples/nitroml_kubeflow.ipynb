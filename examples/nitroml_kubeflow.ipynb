{
 "cells": [
  {
   "cell_type": "code",
   "execution_count": null,
   "metadata": {},
   "outputs": [],
   "source": [
    "##### Copyright 2020 Google LLC."
   ]
  },
  {
   "cell_type": "code",
   "execution_count": 1,
   "metadata": {},
   "outputs": [],
   "source": [
    "#@title Licensed under the Apache License, Version 2.0 (the \"License\");\n",
    "# you may not use this file except in compliance with the License.\n",
    "# You may obtain a copy of the License at\n",
    "#\n",
    "# https://www.apache.org/licenses/LICENSE-2.0\n",
    "#\n",
    "# Unless required by applicable law or agreed to in writing, software\n",
    "# distributed under the License is distributed on an \"AS IS\" BASIS,\n",
    "# WITHOUT WARRANTIES OR CONDITIONS OF ANY KIND, either express or implied.\n",
    "# See the License for the specific language governing permissions and\n",
    "# limitations under the License."
   ]
  },
  {
   "cell_type": "markdown",
   "metadata": {},
   "source": [
    "# Demo for NitroML on Cloud using KubeFlow "
   ]
  },
  {
   "cell_type": "markdown",
   "metadata": {},
   "source": [
    "## Step 1: Get `kfp` and `skaffold`. "
   ]
  },
  {
   "cell_type": "code",
   "execution_count": 2,
   "metadata": {},
   "outputs": [
    {
     "name": "stdout",
     "output_type": "stream",
     "text": [
      "env: PATH=/usr/local/cuda/bin:/opt/conda/bin:/opt/conda/condabin:/usr/local/bin:/usr/bin:/bin:/usr/local/games:/usr/games:/home/jupyter/.local/bin\n"
     ]
    }
   ],
   "source": [
    "import sys\n",
    "\n",
    "# install kfp (https://kubeflow-pipelines.readthedocs.io/en/latest/source/kfp.html)\n",
    "!{sys.executable} -m pip install --user --upgrade -q kfp==0.5.1\n",
    "\n",
    "# Download skaffold and set it executable.\n",
    "# !curl -Lo skaffold https://storage.googleapis.com/skaffold/releases/latest/skaffold-linux-amd64 && chmod +x skaffold && mv skaffold /home/jupyter/.local/bin/\n",
    "    \n",
    "# Set `PATH` to include user python binary directory and a directory containing `skaffold`.\n",
    "PATH=%env PATH\n",
    "%env PATH={PATH}:/home/jupyter/.local/bin"
   ]
  },
  {
   "cell_type": "markdown",
   "metadata": {},
   "source": [
    "## Step 2: Check and install  tfx (if necessary)\n",
    "#### If TFX is not installed, uncomment the pip install command below. We have tested this example with `tfx==0.22.0`"
   ]
  },
  {
   "cell_type": "code",
   "execution_count": 3,
   "metadata": {},
   "outputs": [
    {
     "name": "stdout",
     "output_type": "stream",
     "text": [
      "TFX version: 0.23.0.dev\n",
      "TFDS version: 3.1.0\n"
     ]
    }
   ],
   "source": [
    "# !{sys.executable} -m pip install --user --upgrade -q tfx==0.22.0\n",
    "# !{sys.executable} -m pip install --user --upgrade -q tensorflow_datasets==3.1.0\n",
    "!python3 -c \"import tfx; print('TFX version: {}'.format(tfx.__version__)); import tensorflow_datasets as tfds; print('TFDS version: {}'.format(tfds.__version__))\""
   ]
  },
  {
   "cell_type": "markdown",
   "metadata": {},
   "source": [
    "## Step 3: Get the GCP project ID and create Docker image name"
   ]
  },
  {
   "cell_type": "code",
   "execution_count": 4,
   "metadata": {},
   "outputs": [
    {
     "name": "stdout",
     "output_type": "stream",
     "text": [
      "GCP project ID:nitroml-brain-xgcp\n"
     ]
    }
   ],
   "source": [
    "# Read GCP project id from env.\n",
    "shell_output=!gcloud config list --format 'value(core.project)' 2>/dev/null\n",
    "GCP_PROJECT_ID=shell_output[0]\n",
    "print(\"GCP project ID:\" + GCP_PROJECT_ID)"
   ]
  },
  {
   "cell_type": "code",
   "execution_count": 5,
   "metadata": {},
   "outputs": [],
   "source": [
    "# Docker image name for the pipeline image \n",
    "# IMAGE_NAME = 'nitroml_benchmark4'\n",
    "IMAGE_NAME = 'nitroml_tfx_0130.dev'\n",
    "CUSTOM_TFX_IMAGE='gcr.io/' + GCP_PROJECT_ID + '/' + IMAGE_NAME"
   ]
  },
  {
   "cell_type": "markdown",
   "metadata": {},
   "source": [
    "## Step 4: Set KFP Cluster End point"
   ]
  },
  {
   "cell_type": "code",
   "execution_count": 6,
   "metadata": {},
   "outputs": [],
   "source": [
    "# This refers to the KFP cluster endpoint\n",
    "# To find your endpoint, go to: Google_Project_Console -> AI_PLATFORMS -> PIPELINES. \n",
    "# Then for the cluster you want to run your pipeline on, click on the \"Open Pipeline Dashboard\". Copy the url \"*.googleusercontent.com\". This is your ENDPOINT var.\n",
    "\n",
    "# ENDPOINT='40acc30b0dc82d1d-dot-us-east1.pipelines.googleusercontent.com' # cluster 4\n",
    "ENDPOINT='70a793405e3e430c-dot-us-east1.pipelines.googleusercontent.com' # cluster 1\n",
    "\n",
    "if not ENDPOINT:\n",
    "    from absl import logging\n",
    "    logging.error('Set your ENDPOINT in this cell.')"
   ]
  },
  {
   "cell_type": "code",
   "execution_count": 7,
   "metadata": {},
   "outputs": [
    {
     "name": "stdout",
     "output_type": "stream",
     "text": [
      "/home/jupyter/AIHub/nitroml\n"
     ]
    }
   ],
   "source": [
    "import sys, os\n",
    "PROJECT_DIR=os.path.join(sys.path[0], '..')\n",
    "%cd {PROJECT_DIR}"
   ]
  },
  {
   "cell_type": "code",
   "execution_count": 8,
   "metadata": {},
   "outputs": [],
   "source": [
    "from examples import config\n",
    "PIPELINE_NAME=config.PIPELINE_NAME"
   ]
  },
  {
   "cell_type": "code",
   "execution_count": 9,
   "metadata": {},
   "outputs": [
    {
     "data": {
      "text/plain": [
       "'examples'"
      ]
     },
     "execution_count": 9,
     "metadata": {},
     "output_type": "execute_result"
    }
   ],
   "source": [
    "PIPELINE_NAME"
   ]
  },
  {
   "cell_type": "markdown",
   "metadata": {},
   "source": [
    "## Step 5: Create the tfx pipeline"
   ]
  },
  {
   "cell_type": "code",
   "execution_count": 10,
   "metadata": {},
   "outputs": [
    {
     "data": {
      "text/plain": [
       "'b1514bb2761ecc4709ab26db50673a41'"
      ]
     },
     "execution_count": 10,
     "metadata": {},
     "output_type": "execute_result"
    }
   ],
   "source": [
    "_OPENML_API_KEY = 'OPENML_API_KEY'\n",
    "\n",
    "os.environ[_OPENML_API_KEY] = 'b1514bb2761ecc4709ab26db50673a41'\n",
    "os.getenv(_OPENML_API_KEY, '')"
   ]
  },
  {
   "cell_type": "code",
   "execution_count": 22,
   "metadata": {},
   "outputs": [],
   "source": [
    "# example = 'metalearning'\n",
    "example = 'metalearning'\n",
    "if example == 'titanic':\n",
    "    pipeline_path = 'examples/titanic_benchmark.py'\n",
    "    pipeline_name = f'{PIPELINE_NAME}_titanic'\n",
    "elif example == 'openml_cc18':\n",
    "    pipeline_path = 'examples/openml_cc18_benchmark.py'\n",
    "    pipeline_name = f'{PIPELINE_NAME}_openML'\n",
    "elif example == 'demo':\n",
    "    pipeline_path = 'examples/demo.py'\n",
    "    pipeline_name = f'{PIPELINE_NAME}_demo'\n",
    "elif example == 'metalearning':\n",
    "    pipeline_path = 'examples/meta_learning_benchmark.py'\n",
    "    pipeline_name = f'{PIPELINE_NAME}_metalearning'\n",
    "    "
   ]
  },
  {
   "cell_type": "code",
   "execution_count": 23,
   "metadata": {},
   "outputs": [],
   "source": [
    "TFX_IMAGE=config.TFX_IMAGE"
   ]
  },
  {
   "cell_type": "code",
   "execution_count": 24,
   "metadata": {},
   "outputs": [
    {
     "data": {
      "text/plain": [
       "'gcr.io/nitroml-brain-xgcp/nitroml_tfx_0130.dev'"
      ]
     },
     "execution_count": 24,
     "metadata": {},
     "output_type": "execute_result"
    }
   ],
   "source": [
    "CUSTOM_TFX_IMAGE"
   ]
  },
  {
   "cell_type": "code",
   "execution_count": 25,
   "metadata": {},
   "outputs": [
    {
     "name": "stdout",
     "output_type": "stream",
     "text": [
      "CLI\n",
      "Creating pipeline\n",
      "Reading build spec from build.yaml\n",
      "Target image gcr.io/nitroml-brain-xgcp/nitroml_tfx_0130.dev is not used. If the build spec is provided, update the target image in the build spec file build.yaml.\n",
      "Use skaffold to build the container image.\n",
      "/home/jupyter/.local/bin/skaffold\n",
      "New container image is built. Target image is available in the build spec file.\n",
      "/opt/conda/lib/python3.7/site-packages/tfx/orchestration/data_types.py:191: UserWarning: RuntimeParameter is only supported on KubeflowDagRunner currently.\n",
      "  warnings.warn('RuntimeParameter is only supported on KubeflowDagRunner '\n",
      "I0724 23:38:02.896994 139690520397184 openml_cc18.py:75] The directory gs://artifacts.nitroml-brain-xgcp.appspot.com/other-datasets/openML_datasets exists. 72 datasets found\n",
      "I0724 23:38:13.718438 139690520397184 meta_learning_benchmark.py:82] Train: connect4\n",
      "I0724 23:38:13.721756 139690520397184 meta_learning_benchmark.py:82] Train: creditapproval\n",
      "I0724 23:38:13.722826 139690520397184 meta_learning_benchmark.py:82] Train: creditg\n",
      "I0724 23:38:13.723702 139690520397184 meta_learning_benchmark.py:82] Train: cylinderbands\n",
      "I0724 23:38:13.724680 139690520397184 meta_learning_benchmark.py:82] Train: diabetes\n",
      "I0724 23:38:13.835861 139690520397184 openml_cc18.py:75] The directory gs://artifacts.nitroml-brain-xgcp.appspot.com/other-datasets/openML_datasets exists. 72 datasets found\n",
      "I0724 23:38:23.315836 139690520397184 meta_learning_benchmark.py:127] Test: Bioresponse\n",
      "I0724 23:38:23.316138 139690520397184 meta_learning_benchmark.py:127] Test: CIFAR_10\n",
      "I0724 23:38:23.316263 139690520397184 meta_learning_benchmark.py:127] Test: DevnagariScript\n",
      "I0724 23:38:23.316338 139690520397184 meta_learning_benchmark.py:127] Test: FashionMNIST\n",
      "I0724 23:38:23.316416 139690520397184 meta_learning_benchmark.py:127] Test: GesturePhaseSegmentationProcessed\n",
      "I0724 23:38:23.316537 139690520397184 meta_learning_benchmark.py:127] Test: InternetAdvertisements\n",
      "I0724 23:38:23.316635 139690520397184 meta_learning_benchmark.py:127] Test: MiceProtein\n",
      "I0724 23:38:23.316714 139690520397184 meta_learning_benchmark.py:127] Test: PhishingWebsites\n",
      "I0724 23:38:23.316812 139690520397184 meta_learning_benchmark.py:127] Test: adult\n",
      "I0724 23:38:23.316889 139690520397184 meta_learning_benchmark.py:127] Test: analcatdata_authorship\n",
      "I0724 23:38:23.316970 139690520397184 meta_learning_benchmark.py:127] Test: analcatdata_dmft\n",
      "I0724 23:38:23.317054 139690520397184 meta_learning_benchmark.py:127] Test: balancescale\n",
      "I0724 23:38:23.317137 139690520397184 meta_learning_benchmark.py:127] Test: bankmarketing\n",
      "I0724 23:38:23.317223 139690520397184 meta_learning_benchmark.py:127] Test: banknoteauthentication\n",
      "I0724 23:38:23.317300 139690520397184 meta_learning_benchmark.py:127] Test: bloodtransfusionservicecenter\n",
      "I0724 23:38:23.317387 139690520397184 meta_learning_benchmark.py:127] Test: breastw\n",
      "I0724 23:38:23.317471 139690520397184 meta_learning_benchmark.py:127] Test: car\n",
      "I0724 23:38:23.317547 139690520397184 meta_learning_benchmark.py:127] Test: churn\n",
      "I0724 23:38:23.317629 139690520397184 meta_learning_benchmark.py:127] Test: climatemodelsimulationcrashes\n",
      "I0724 23:38:23.317708 139690520397184 meta_learning_benchmark.py:127] Test: cmc\n",
      "I0724 23:38:23.317780 139690520397184 meta_learning_benchmark.py:127] Test: cnae9\n",
      "I0724 23:38:23.317876 139690520397184 meta_learning_benchmark.py:127] Test: connect4\n",
      "I0724 23:38:23.317953 139690520397184 meta_learning_benchmark.py:127] Test: creditapproval\n",
      "I0724 23:38:23.318035 139690520397184 meta_learning_benchmark.py:127] Test: creditg\n",
      "I0724 23:38:23.318111 139690520397184 meta_learning_benchmark.py:127] Test: cylinderbands\n",
      "I0724 23:38:23.318184 139690520397184 meta_learning_benchmark.py:127] Test: diabetes\n",
      "I0724 23:38:23.318264 139690520397184 meta_learning_benchmark.py:127] Test: dna\n",
      "I0724 23:38:23.318339 139690520397184 meta_learning_benchmark.py:127] Test: dressessales\n",
      "I0724 23:38:23.319769 139690520397184 component.py:131] Neither eval_config nor feature_slicing_spec is passed, the model is treated as estimator.\n",
      "W0724 23:38:23.319958 139690520397184 component.py:142] feature_slicing_spec is deprecated, please use eval_config instead.\n",
      "I0724 23:38:23.320303 139690520397184 meta_learning_benchmark.py:127] Test: electricity\n",
      "I0724 23:38:23.320420 139690520397184 meta_learning_benchmark.py:127] Test: eucalyptus\n",
      "I0724 23:38:23.320538 139690520397184 meta_learning_benchmark.py:127] Test: firstordertheoremproving\n",
      "I0724 23:38:23.320619 139690520397184 meta_learning_benchmark.py:127] Test: har\n",
      "I0724 23:38:23.320703 139690520397184 meta_learning_benchmark.py:127] Test: ilpd\n",
      "I0724 23:38:23.320780 139690520397184 meta_learning_benchmark.py:127] Test: isolet\n",
      "I0724 23:38:23.320869 139690520397184 meta_learning_benchmark.py:127] Test: jm1\n",
      "I0724 23:38:23.320951 139690520397184 meta_learning_benchmark.py:127] Test: jungle_chess_2pcs_raw_endgame_complete\n",
      "I0724 23:38:23.321031 139690520397184 meta_learning_benchmark.py:127] Test: kc1\n",
      "I0724 23:38:23.321121 139690520397184 meta_learning_benchmark.py:127] Test: kc2\n",
      "I0724 23:38:23.321195 139690520397184 meta_learning_benchmark.py:127] Test: krvskp\n",
      "I0724 23:38:23.321269 139690520397184 meta_learning_benchmark.py:127] Test: letter\n",
      "I0724 23:38:23.321346 139690520397184 meta_learning_benchmark.py:127] Test: madelon\n",
      "I0724 23:38:23.321419 139690520397184 meta_learning_benchmark.py:127] Test: mfeatfactors\n",
      "I0724 23:38:23.321494 139690520397184 meta_learning_benchmark.py:127] Test: mfeatfourier\n",
      "I0724 23:38:23.321571 139690520397184 meta_learning_benchmark.py:127] Test: mfeatkarhunen\n",
      "I0724 23:38:23.321643 139690520397184 meta_learning_benchmark.py:127] Test: mfeatmorphological\n",
      "I0724 23:38:23.321720 139690520397184 meta_learning_benchmark.py:127] Test: mfeatpixel\n",
      "I0724 23:38:23.321797 139690520397184 meta_learning_benchmark.py:127] Test: mfeatzernike\n",
      "I0724 23:38:23.321875 139690520397184 meta_learning_benchmark.py:127] Test: mnist_784\n",
      "I0724 23:38:23.321949 139690520397184 meta_learning_benchmark.py:127] Test: nomao\n",
      "I0724 23:38:23.322022 139690520397184 meta_learning_benchmark.py:127] Test: numerai286\n",
      "I0724 23:38:23.322096 139690520397184 meta_learning_benchmark.py:127] Test: optdigits\n",
      "I0724 23:38:23.322211 139690520397184 meta_learning_benchmark.py:127] Test: ozonelevel8hr\n",
      "I0724 23:38:23.322278 139690520397184 meta_learning_benchmark.py:127] Test: pc1\n",
      "I0724 23:38:23.322360 139690520397184 meta_learning_benchmark.py:127] Test: pc3\n",
      "I0724 23:38:23.322440 139690520397184 meta_learning_benchmark.py:127] Test: pc4\n",
      "I0724 23:38:23.322513 139690520397184 meta_learning_benchmark.py:127] Test: pendigits\n",
      "I0724 23:38:23.322593 139690520397184 meta_learning_benchmark.py:127] Test: phoneme\n",
      "I0724 23:38:23.322668 139690520397184 meta_learning_benchmark.py:127] Test: qsarbiodeg\n",
      "I0724 23:38:23.322741 139690520397184 meta_learning_benchmark.py:127] Test: satimage\n",
      "I0724 23:38:23.322827 139690520397184 meta_learning_benchmark.py:127] Test: segment\n",
      "I0724 23:38:23.322898 139690520397184 meta_learning_benchmark.py:127] Test: semeion\n",
      "I0724 23:38:23.322982 139690520397184 meta_learning_benchmark.py:127] Test: sick\n",
      "I0724 23:38:23.323053 139690520397184 meta_learning_benchmark.py:127] Test: spambase\n",
      "I0724 23:38:23.323122 139690520397184 meta_learning_benchmark.py:127] Test: splice\n",
      "I0724 23:38:23.323199 139690520397184 meta_learning_benchmark.py:127] Test: steelplatesfault\n",
      "I0724 23:38:23.323294 139690520397184 meta_learning_benchmark.py:127] Test: texture\n",
      "I0724 23:38:23.323374 139690520397184 meta_learning_benchmark.py:127] Test: tictactoe\n",
      "I0724 23:38:23.323448 139690520397184 meta_learning_benchmark.py:127] Test: vehicle\n",
      "I0724 23:38:23.323539 139690520397184 meta_learning_benchmark.py:127] Test: vowel\n",
      "I0724 23:38:23.323615 139690520397184 meta_learning_benchmark.py:127] Test: wallrobotnavigation\n",
      "I0724 23:38:23.323685 139690520397184 meta_learning_benchmark.py:127] Test: wdbc\n",
      "I0724 23:38:23.323763 139690520397184 meta_learning_benchmark.py:127] Test: wilt\n",
      "I0724 23:38:23.441366 139690520397184 nitroml.py:229] NitroML benchmarks:\n",
      "I0724 23:38:23.441640 139690520397184 nitroml.py:232] \tOpenMLCC18MetaLearning.benchmark\n",
      "I0724 23:38:23.441755 139690520397184 nitroml.py:233] \t\tRUNNING\n",
      "I0724 23:38:23.469093 139690520397184 base_component.py:137] Adding upstream dependencies for component CsvExampleGen_None_test_dressessales_OpenMLCC18MetaLearning_benchmark\n",
      "I0724 23:38:23.470432 139690520397184 base_component.py:137] Adding upstream dependencies for component CsvExampleGen_None_train_connect4_OpenMLCC18MetaLearning_benchmark\n",
      "I0724 23:38:23.471426 139690520397184 base_component.py:137] Adding upstream dependencies for component CsvExampleGen_None_train_creditapproval_OpenMLCC18MetaLearning_benchmark\n",
      "I0724 23:38:23.472452 139690520397184 base_component.py:137] Adding upstream dependencies for component CsvExampleGen_None_train_creditg_OpenMLCC18MetaLearning_benchmark\n",
      "I0724 23:38:23.473492 139690520397184 base_component.py:137] Adding upstream dependencies for component CsvExampleGen_None_train_cylinderbands_OpenMLCC18MetaLearning_benchmark\n",
      "I0724 23:38:23.474469 139690520397184 base_component.py:137] Adding upstream dependencies for component CsvExampleGen_None_train_diabetes_OpenMLCC18MetaLearning_benchmark\n",
      "I0724 23:38:23.475612 139690520397184 base_component.py:137] Adding upstream dependencies for component StatisticsGen_AutoData_test_dressessales_OpenMLCC18MetaLearning_benchmark\n",
      "I0724 23:38:23.475716 139690520397184 base_component.py:139]    ->  Component: CsvExampleGen_None_test_dressessales_OpenMLCC18MetaLearning_benchmark\n",
      "I0724 23:38:23.477102 139690520397184 base_component.py:137] Adding upstream dependencies for component StatisticsGen_AutoData_train_connect4_OpenMLCC18MetaLearning_benchmark\n",
      "I0724 23:38:23.477206 139690520397184 base_component.py:139]    ->  Component: CsvExampleGen_None_train_connect4_OpenMLCC18MetaLearning_benchmark\n",
      "I0724 23:38:23.478420 139690520397184 base_component.py:137] Adding upstream dependencies for component StatisticsGen_AutoData_train_creditapproval_OpenMLCC18MetaLearning_benchmark\n",
      "I0724 23:38:23.478525 139690520397184 base_component.py:139]    ->  Component: CsvExampleGen_None_train_creditapproval_OpenMLCC18MetaLearning_benchmark\n",
      "I0724 23:38:23.479724 139690520397184 base_component.py:137] Adding upstream dependencies for component StatisticsGen_AutoData_train_creditg_OpenMLCC18MetaLearning_benchmark\n",
      "I0724 23:38:23.479848 139690520397184 base_component.py:139]    ->  Component: CsvExampleGen_None_train_creditg_OpenMLCC18MetaLearning_benchmark\n",
      "I0724 23:38:23.481176 139690520397184 base_component.py:137] Adding upstream dependencies for component StatisticsGen_AutoData_train_cylinderbands_OpenMLCC18MetaLearning_benchmark\n",
      "I0724 23:38:23.481280 139690520397184 base_component.py:139]    ->  Component: CsvExampleGen_None_train_cylinderbands_OpenMLCC18MetaLearning_benchmark\n",
      "I0724 23:38:23.482402 139690520397184 base_component.py:137] Adding upstream dependencies for component StatisticsGen_AutoData_train_diabetes_OpenMLCC18MetaLearning_benchmark\n",
      "I0724 23:38:23.482516 139690520397184 base_component.py:139]    ->  Component: CsvExampleGen_None_train_diabetes_OpenMLCC18MetaLearning_benchmark\n",
      "I0724 23:38:23.483691 139690520397184 base_component.py:137] Adding upstream dependencies for component MetaFeatureGen_train_0_OpenMLCC18MetaLearning_benchmark\n",
      "I0724 23:38:23.483796 139690520397184 base_component.py:139]    ->  Component: StatisticsGen_AutoData_train_connect4_OpenMLCC18MetaLearning_benchmark\n",
      "I0724 23:38:23.484934 139690520397184 base_component.py:137] Adding upstream dependencies for component MetaFeatureGen_train_1_OpenMLCC18MetaLearning_benchmark\n",
      "I0724 23:38:23.485033 139690520397184 base_component.py:139]    ->  Component: StatisticsGen_AutoData_train_creditapproval_OpenMLCC18MetaLearning_benchmark\n",
      "I0724 23:38:23.486165 139690520397184 base_component.py:137] Adding upstream dependencies for component MetaFeatureGen_train_2_OpenMLCC18MetaLearning_benchmark\n",
      "I0724 23:38:23.486284 139690520397184 base_component.py:139]    ->  Component: StatisticsGen_AutoData_train_creditg_OpenMLCC18MetaLearning_benchmark\n",
      "I0724 23:38:23.487461 139690520397184 base_component.py:137] Adding upstream dependencies for component MetaFeatureGen_train_3_OpenMLCC18MetaLearning_benchmark\n",
      "I0724 23:38:23.487565 139690520397184 base_component.py:139]    ->  Component: StatisticsGen_AutoData_train_cylinderbands_OpenMLCC18MetaLearning_benchmark\n",
      "I0724 23:38:23.488676 139690520397184 base_component.py:137] Adding upstream dependencies for component MetaFeatureGen_train_4_OpenMLCC18MetaLearning_benchmark\n",
      "I0724 23:38:23.488779 139690520397184 base_component.py:139]    ->  Component: StatisticsGen_AutoData_train_diabetes_OpenMLCC18MetaLearning_benchmark\n",
      "I0724 23:38:23.489947 139690520397184 base_component.py:137] Adding upstream dependencies for component SchemaGen_AutoData_test_dressessales_OpenMLCC18MetaLearning_benchmark\n",
      "I0724 23:38:23.490049 139690520397184 base_component.py:139]    ->  Component: StatisticsGen_AutoData_test_dressessales_OpenMLCC18MetaLearning_benchmark\n",
      "I0724 23:38:23.491431 139690520397184 base_component.py:137] Adding upstream dependencies for component SchemaGen_AutoData_train_connect4_OpenMLCC18MetaLearning_benchmark\n",
      "I0724 23:38:23.491554 139690520397184 base_component.py:139]    ->  Component: StatisticsGen_AutoData_train_connect4_OpenMLCC18MetaLearning_benchmark\n",
      "I0724 23:38:23.493098 139690520397184 base_component.py:137] Adding upstream dependencies for component SchemaGen_AutoData_train_creditapproval_OpenMLCC18MetaLearning_benchmark\n",
      "I0724 23:38:23.493223 139690520397184 base_component.py:139]    ->  Component: StatisticsGen_AutoData_train_creditapproval_OpenMLCC18MetaLearning_benchmark\n",
      "I0724 23:38:23.494755 139690520397184 base_component.py:137] Adding upstream dependencies for component SchemaGen_AutoData_train_creditg_OpenMLCC18MetaLearning_benchmark\n",
      "I0724 23:38:23.495712 139690520397184 base_component.py:139]    ->  Component: StatisticsGen_AutoData_train_creditg_OpenMLCC18MetaLearning_benchmark\n",
      "I0724 23:38:23.496909 139690520397184 base_component.py:137] Adding upstream dependencies for component SchemaGen_AutoData_train_cylinderbands_OpenMLCC18MetaLearning_benchmark\n",
      "I0724 23:38:23.497010 139690520397184 base_component.py:139]    ->  Component: StatisticsGen_AutoData_train_cylinderbands_OpenMLCC18MetaLearning_benchmark\n",
      "I0724 23:38:23.498453 139690520397184 base_component.py:137] Adding upstream dependencies for component SchemaGen_AutoData_train_diabetes_OpenMLCC18MetaLearning_benchmark\n",
      "I0724 23:38:23.498557 139690520397184 base_component.py:139]    ->  Component: StatisticsGen_AutoData_train_diabetes_OpenMLCC18MetaLearning_benchmark\n",
      "I0724 23:38:23.500078 139690520397184 base_component.py:137] Adding upstream dependencies for component Transform_AutoData_test_dressessales_OpenMLCC18MetaLearning_benchmark\n",
      "I0724 23:38:23.500183 139690520397184 base_component.py:139]    ->  Component: SchemaGen_AutoData_test_dressessales_OpenMLCC18MetaLearning_benchmark\n",
      "I0724 23:38:23.500276 139690520397184 base_component.py:139]    ->  Component: CsvExampleGen_None_test_dressessales_OpenMLCC18MetaLearning_benchmark\n",
      "I0724 23:38:23.501728 139690520397184 base_component.py:137] Adding upstream dependencies for component Transform_AutoData_train_connect4_OpenMLCC18MetaLearning_benchmark\n",
      "I0724 23:38:23.501833 139690520397184 base_component.py:139]    ->  Component: CsvExampleGen_None_train_connect4_OpenMLCC18MetaLearning_benchmark\n",
      "I0724 23:38:23.501944 139690520397184 base_component.py:139]    ->  Component: SchemaGen_AutoData_train_connect4_OpenMLCC18MetaLearning_benchmark\n",
      "I0724 23:38:23.504128 139690520397184 base_component.py:137] Adding upstream dependencies for component Transform_AutoData_train_creditapproval_OpenMLCC18MetaLearning_benchmark\n",
      "I0724 23:38:23.504238 139690520397184 base_component.py:139]    ->  Component: SchemaGen_AutoData_train_creditapproval_OpenMLCC18MetaLearning_benchmark\n",
      "I0724 23:38:23.504333 139690520397184 base_component.py:139]    ->  Component: CsvExampleGen_None_train_creditapproval_OpenMLCC18MetaLearning_benchmark\n",
      "I0724 23:38:23.505907 139690520397184 base_component.py:137] Adding upstream dependencies for component Transform_AutoData_train_creditg_OpenMLCC18MetaLearning_benchmark\n",
      "I0724 23:38:23.506009 139690520397184 base_component.py:139]    ->  Component: CsvExampleGen_None_train_creditg_OpenMLCC18MetaLearning_benchmark\n",
      "I0724 23:38:23.506100 139690520397184 base_component.py:139]    ->  Component: SchemaGen_AutoData_train_creditg_OpenMLCC18MetaLearning_benchmark\n",
      "I0724 23:38:23.507628 139690520397184 base_component.py:137] Adding upstream dependencies for component Transform_AutoData_train_cylinderbands_OpenMLCC18MetaLearning_benchmark\n",
      "I0724 23:38:23.507733 139690520397184 base_component.py:139]    ->  Component: CsvExampleGen_None_train_cylinderbands_OpenMLCC18MetaLearning_benchmark\n",
      "I0724 23:38:23.507822 139690520397184 base_component.py:139]    ->  Component: SchemaGen_AutoData_train_cylinderbands_OpenMLCC18MetaLearning_benchmark\n",
      "I0724 23:38:23.509348 139690520397184 base_component.py:137] Adding upstream dependencies for component Transform_AutoData_train_diabetes_OpenMLCC18MetaLearning_benchmark\n",
      "I0724 23:38:23.509452 139690520397184 base_component.py:139]    ->  Component: CsvExampleGen_None_train_diabetes_OpenMLCC18MetaLearning_benchmark\n",
      "I0724 23:38:23.509542 139690520397184 base_component.py:139]    ->  Component: SchemaGen_AutoData_train_diabetes_OpenMLCC18MetaLearning_benchmark\n",
      "I0724 23:38:23.511015 139690520397184 base_component.py:137] Adding upstream dependencies for component Tuner_train_connect4_OpenMLCC18MetaLearning_benchmark\n",
      "I0724 23:38:23.511148 139690520397184 base_component.py:139]    ->  Component: Transform_AutoData_train_connect4_OpenMLCC18MetaLearning_benchmark\n",
      "I0724 23:38:23.512539 139690520397184 base_component.py:137] Adding upstream dependencies for component Tuner_train_creditapproval_OpenMLCC18MetaLearning_benchmark\n",
      "I0724 23:38:23.512640 139690520397184 base_component.py:139]    ->  Component: Transform_AutoData_train_creditapproval_OpenMLCC18MetaLearning_benchmark\n",
      "I0724 23:38:23.514029 139690520397184 base_component.py:137] Adding upstream dependencies for component Tuner_train_creditg_OpenMLCC18MetaLearning_benchmark\n",
      "I0724 23:38:23.514133 139690520397184 base_component.py:139]    ->  Component: Transform_AutoData_train_creditg_OpenMLCC18MetaLearning_benchmark\n",
      "I0724 23:38:23.515455 139690520397184 base_component.py:137] Adding upstream dependencies for component Tuner_train_cylinderbands_OpenMLCC18MetaLearning_benchmark\n",
      "I0724 23:38:23.515561 139690520397184 base_component.py:139]    ->  Component: Transform_AutoData_train_cylinderbands_OpenMLCC18MetaLearning_benchmark\n",
      "I0724 23:38:23.516847 139690520397184 base_component.py:137] Adding upstream dependencies for component Tuner_train_diabetes_OpenMLCC18MetaLearning_benchmark\n",
      "I0724 23:38:23.516955 139690520397184 base_component.py:139]    ->  Component: Transform_AutoData_train_diabetes_OpenMLCC18MetaLearning_benchmark\n",
      "I0724 23:38:23.519535 139690520397184 base_component.py:137] Adding upstream dependencies for component MetaLearner_OpenMLCC18MetaLearning_benchmark\n",
      "I0724 23:38:23.519640 139690520397184 base_component.py:139]    ->  Component: MetaFeatureGen_train_0_OpenMLCC18MetaLearning_benchmark\n",
      "I0724 23:38:23.519728 139690520397184 base_component.py:139]    ->  Component: Tuner_train_diabetes_OpenMLCC18MetaLearning_benchmark\n",
      "I0724 23:38:23.519792 139690520397184 base_component.py:139]    ->  Component: MetaFeatureGen_train_4_OpenMLCC18MetaLearning_benchmark\n",
      "I0724 23:38:23.519861 139690520397184 base_component.py:139]    ->  Component: Tuner_train_cylinderbands_OpenMLCC18MetaLearning_benchmark\n",
      "I0724 23:38:23.519945 139690520397184 base_component.py:139]    ->  Component: Tuner_train_creditg_OpenMLCC18MetaLearning_benchmark\n",
      "I0724 23:38:23.520010 139690520397184 base_component.py:139]    ->  Component: MetaFeatureGen_train_3_OpenMLCC18MetaLearning_benchmark\n",
      "I0724 23:38:23.520079 139690520397184 base_component.py:139]    ->  Component: Tuner_train_creditapproval_OpenMLCC18MetaLearning_benchmark\n",
      "I0724 23:38:23.520148 139690520397184 base_component.py:139]    ->  Component: Tuner_train_connect4_OpenMLCC18MetaLearning_benchmark\n",
      "I0724 23:38:23.520214 139690520397184 base_component.py:139]    ->  Component: MetaFeatureGen_train_2_OpenMLCC18MetaLearning_benchmark\n",
      "I0724 23:38:23.520278 139690520397184 base_component.py:139]    ->  Component: MetaFeatureGen_train_1_OpenMLCC18MetaLearning_benchmark\n",
      "I0724 23:38:23.522015 139690520397184 base_component.py:137] Adding upstream dependencies for component Trainer_OpenMLCC18MetaLearning_benchmark\n",
      "I0724 23:38:23.522119 139690520397184 base_component.py:139]    ->  Component: SchemaGen_AutoData_test_dressessales_OpenMLCC18MetaLearning_benchmark\n",
      "I0724 23:38:23.522208 139690520397184 base_component.py:139]    ->  Component: MetaLearner_OpenMLCC18MetaLearning_benchmark\n",
      "I0724 23:38:23.522276 139690520397184 base_component.py:139]    ->  Component: Transform_AutoData_test_dressessales_OpenMLCC18MetaLearning_benchmark\n",
      "I0724 23:38:23.524029 139690520397184 base_component.py:137] Adding upstream dependencies for component Evaluator_OpenMLCC18MetaLearning_benchmark\n",
      "I0724 23:38:23.524133 139690520397184 base_component.py:139]    ->  Component: Trainer_OpenMLCC18MetaLearning_benchmark\n",
      "I0724 23:38:23.524231 139690520397184 base_component.py:139]    ->  Component: CsvExampleGen_None_test_dressessales_OpenMLCC18MetaLearning_benchmark\n",
      "I0724 23:38:23.525328 139690520397184 base_component.py:137] Adding upstream dependencies for component BenchmarkResultPublisher_OpenMLCC18MetaLearning_benchmark\n",
      "I0724 23:38:23.525434 139690520397184 base_component.py:139]    ->  Component: Evaluator_OpenMLCC18MetaLearning_benchmark\n",
      "\u001b[0mPipeline compiled successfully.\n",
      "Pipeline package path: /home/jupyter/AIHub/nitroml/examples_metalearning.tar.gz\n",
      "{'created_at': datetime.datetime(2020, 7, 24, 23, 38, 25, tzinfo=tzlocal()),\n",
      " 'default_version': {'code_source_url': None,\n",
      "                     'created_at': datetime.datetime(2020, 7, 24, 23, 38, 25, tzinfo=tzlocal()),\n",
      "                     'id': 'df34184a-6d64-42b1-9de0-9725a3b7f84e',\n",
      "                     'name': 'examples_metalearning',\n",
      "                     'package_url': None,\n",
      "                     'parameters': [{'name': 'pipeline-root',\n",
      "                                     'value': 'gs://artifacts.nitroml-brain-xgcp.appspot.com/examples'}],\n",
      "                     'resource_references': [{'key': {'id': 'df34184a-6d64-42b1-9de0-9725a3b7f84e',\n",
      "                                                      'type': 'PIPELINE'},\n",
      "                                              'name': None,\n",
      "                                              'relationship': 'OWNER'}]},\n",
      " 'description': None,\n",
      " 'error': None,\n",
      " 'id': 'df34184a-6d64-42b1-9de0-9725a3b7f84e',\n",
      " 'name': 'examples_metalearning',\n",
      " 'parameters': [{'name': 'pipeline-root',\n",
      "                 'value': 'gs://artifacts.nitroml-brain-xgcp.appspot.com/examples'}],\n",
      " 'url': None}\n",
      "Please access the pipeline detail page at http://70a793405e3e430c-dot-us-east1.pipelines.googleusercontent.com/#/pipelines/details/df34184a-6d64-42b1-9de0-9725a3b7f84e\n",
      "Pipeline \"examples_metalearning\" created successfully.\n",
      "\u001b[0m"
     ]
    }
   ],
   "source": [
    "!tfx pipeline create  \\\n",
    "--pipeline-path={pipeline_path} \\\n",
    "--endpoint={ENDPOINT} \\\n",
    "--build-target-image={CUSTOM_TFX_IMAGE} \\\n",
    "--build-base-image={TFX_IMAGE} \\\n",
    "--engine='kubeflow'"
   ]
  },
  {
   "cell_type": "markdown",
   "metadata": {},
   "source": [
    "## Step 6: Run the created tfx pipeline"
   ]
  },
  {
   "cell_type": "markdown",
   "metadata": {},
   "source": [
    "## Step 7 (Optional): If the pipeline src is updated, we will have to update the pipeline at endpoint. The following block updates the pipeline and runs it."
   ]
  },
  {
   "cell_type": "code",
   "execution_count": 20,
   "metadata": {},
   "outputs": [
    {
     "name": "stdout",
     "output_type": "stream",
     "text": [
      "CLI\n",
      "Updating pipeline\n",
      "Reading build spec from build.yaml\n",
      "Use skaffold to build the container image.\n",
      "/home/jupyter/.local/bin/skaffold\n",
      "New container image is built. Target image is available in the build spec file.\n",
      "/opt/conda/lib/python3.7/site-packages/tfx/orchestration/data_types.py:191: UserWarning: RuntimeParameter is only supported on KubeflowDagRunner currently.\n",
      "  warnings.warn('RuntimeParameter is only supported on KubeflowDagRunner '\n",
      "I0724 23:31:50.142108 140474966017408 dataset_info.py:361] Load dataset info from gs://artifacts.nitroml-brain-xgcp.appspot.com/tensorflow-datasets/titanic/2.0.0\n",
      "I0724 23:31:50.853109 140474966017408 dataset_info.py:401] Field info.citation from disk and from code do not match. Keeping the one from code.\n",
      "I0724 23:31:50.856588 140474966017408 tfds_task.py:47] Preparing dataset...\n",
      "I0724 23:31:50.888455 140474966017408 dataset_builder.py:282] Reusing dataset titanic (gs://artifacts.nitroml-brain-xgcp.appspot.com/tensorflow-datasets/titanic/2.0.0)\n",
      "I0724 23:31:50.888761 140474966017408 tfds_task.py:49] tfds.core.DatasetInfo(\n",
      "    name='titanic',\n",
      "    version=2.0.0,\n",
      "    description='Dataset describing the survival status of individual passengers on the Titanic. Missing values in the original dataset are represented using ?. Float and int missing values are replaced with -1, string missing values are replaced with 'Unknown'.',\n",
      "    homepage='https://www.openml.org/d/40945',\n",
      "    features=FeaturesDict({\n",
      "        'features': FeaturesDict({\n",
      "            'age': tf.float32,\n",
      "            'boat': tf.string,\n",
      "            'body': tf.int32,\n",
      "            'cabin': tf.string,\n",
      "            'embarked': ClassLabel(shape=(), dtype=tf.int64, num_classes=4),\n",
      "            'fare': tf.float32,\n",
      "            'home.dest': tf.string,\n",
      "            'name': tf.string,\n",
      "            'parch': tf.int32,\n",
      "            'pclass': ClassLabel(shape=(), dtype=tf.int64, num_classes=3),\n",
      "            'sex': ClassLabel(shape=(), dtype=tf.int64, num_classes=2),\n",
      "            'sibsp': tf.int32,\n",
      "            'ticket': tf.string,\n",
      "        }),\n",
      "        'survived': ClassLabel(shape=(), dtype=tf.int64, num_classes=2),\n",
      "    }),\n",
      "    total_num_examples=1309,\n",
      "    splits={\n",
      "        'train': 1309,\n",
      "    },\n",
      "    supervised_keys=('features', 'survived'),\n",
      "    citation=\"\"\"@ONLINE {titanic,\n",
      "    author = \"Frank E. Harrell Jr., Thomas Cason\",\n",
      "    title  = \"Titanic dataset\",\n",
      "    month  = \"oct\",\n",
      "    year   = \"2017\",\n",
      "    url    = \"https://www.openml.org/d/40945\"\n",
      "    }\"\"\",\n",
      "    redistribution_info=,\n",
      ")\n",
      "\n",
      "I0724 23:31:50.890137 140474966017408 tfds_task.py:65] Splits: [name: \"train\"\n",
      "pattern: \"titanic-train.tfrecord-00000-of-00001\"\n",
      "]\n",
      "WARNING:tensorflow:From /home/jupyter/AIHub/nitroml/examples/../nitroml/tasks/tfds_task.py:68: external_input (from tfx.utils.dsl_utils) is deprecated and will be removed in a future version.\n",
      "Instructions for updating:\n",
      "external_input is deprecated, directly pass the uri to ExampleGen.\n",
      "W0724 23:31:50.891534 140474966017408 component.py:82] The \"input\" argument to the ImportExampleGen component has been deprecated by \"input_base\". Please update your usage as support for this argument will be removed soon.\n",
      "I0724 23:31:50.894288 140474966017408 component.py:131] Neither eval_config nor feature_slicing_spec is passed, the model is treated as estimator.\n",
      "W0724 23:31:50.894412 140474966017408 component.py:142] feature_slicing_spec is deprecated, please use eval_config instead.\n",
      "I0724 23:31:50.999171 140474966017408 nitroml.py:229] NitroML benchmarks:\n",
      "I0724 23:31:50.999498 140474966017408 nitroml.py:232] \tTitanicBenchmark.benchmark\n",
      "I0724 23:31:50.999647 140474966017408 nitroml.py:233] \t\tRUNNING\n",
      "I0724 23:31:51.010561 140474966017408 base_component.py:137] Adding upstream dependencies for component ImportExampleGen_TitanicBenchmark_benchmark\n",
      "I0724 23:31:51.011943 140474966017408 base_component.py:137] Adding upstream dependencies for component StatisticsGen_AutoData_TitanicBenchmark_benchmark\n",
      "I0724 23:31:51.012080 140474966017408 base_component.py:139]    ->  Component: ImportExampleGen_TitanicBenchmark_benchmark\n",
      "I0724 23:31:51.013366 140474966017408 base_component.py:137] Adding upstream dependencies for component SchemaGen_AutoData_TitanicBenchmark_benchmark\n",
      "I0724 23:31:51.013478 140474966017408 base_component.py:139]    ->  Component: StatisticsGen_AutoData_TitanicBenchmark_benchmark\n",
      "I0724 23:31:51.015020 140474966017408 base_component.py:137] Adding upstream dependencies for component Transform_AutoData_TitanicBenchmark_benchmark\n",
      "I0724 23:31:51.015335 140474966017408 base_component.py:139]    ->  Component: SchemaGen_AutoData_TitanicBenchmark_benchmark\n",
      "I0724 23:31:51.015463 140474966017408 base_component.py:139]    ->  Component: ImportExampleGen_TitanicBenchmark_benchmark\n",
      "I0724 23:31:51.016965 140474966017408 base_component.py:137] Adding upstream dependencies for component Tuner_TitanicBenchmark_benchmark\n",
      "I0724 23:31:51.017089 140474966017408 base_component.py:139]    ->  Component: Transform_AutoData_TitanicBenchmark_benchmark\n",
      "I0724 23:31:51.019174 140474966017408 base_component.py:137] Adding upstream dependencies for component Trainer_TitanicBenchmark_benchmark\n",
      "I0724 23:31:51.019292 140474966017408 base_component.py:139]    ->  Component: Tuner_TitanicBenchmark_benchmark\n",
      "I0724 23:31:51.019387 140474966017408 base_component.py:139]    ->  Component: Transform_AutoData_TitanicBenchmark_benchmark\n",
      "I0724 23:31:51.019458 140474966017408 base_component.py:139]    ->  Component: SchemaGen_AutoData_TitanicBenchmark_benchmark\n",
      "I0724 23:31:51.020955 140474966017408 base_component.py:137] Adding upstream dependencies for component Evaluator_TitanicBenchmark_benchmark\n",
      "I0724 23:31:51.021080 140474966017408 base_component.py:139]    ->  Component: ImportExampleGen_TitanicBenchmark_benchmark\n",
      "I0724 23:31:51.021178 140474966017408 base_component.py:139]    ->  Component: Trainer_TitanicBenchmark_benchmark\n",
      "I0724 23:31:51.022315 140474966017408 base_component.py:137] Adding upstream dependencies for component BenchmarkResultPublisher_TitanicBenchmark_benchmark\n",
      "I0724 23:31:51.022430 140474966017408 base_component.py:139]    ->  Component: Evaluator_TitanicBenchmark_benchmark\n",
      "\u001b[0mPipeline compiled successfully.\n",
      "Pipeline package path: /home/jupyter/AIHub/nitroml/examples_titanic.tar.gz\n",
      "{'code_source_url': None,\n",
      " 'created_at': datetime.datetime(2020, 7, 24, 23, 31, 52, tzinfo=tzlocal()),\n",
      " 'id': '3332bb1c-998e-4064-830a-225b0909c27f',\n",
      " 'name': 'examples_titanic_20200724233152',\n",
      " 'package_url': None,\n",
      " 'parameters': [{'name': 'pipeline-root',\n",
      "                 'value': 'gs://artifacts.nitroml-brain-xgcp.appspot.com/examples'}],\n",
      " 'resource_references': [{'key': {'id': 'e054982c-d6f1-4b85-8ed4-de1399a2809c',\n",
      "                                  'type': 'PIPELINE'},\n",
      "                          'name': None,\n",
      "                          'relationship': 'OWNER'}]}\n",
      "Please access the pipeline detail page at http://70a793405e3e430c-dot-us-east1.pipelines.googleusercontent.com/#/pipelines/details/e054982c-d6f1-4b85-8ed4-de1399a2809c\n",
      "Pipeline \"examples_titanic\" updated successfully.\n",
      "\u001b[0m"
     ]
    }
   ],
   "source": [
    "# If we update the pipeline\n",
    "!tfx pipeline update \\\n",
    "--pipeline-path={pipeline_path} \\\n",
    "--endpoint={ENDPOINT} \\\n",
    "--engine='kubeflow'"
   ]
  },
  {
   "cell_type": "code",
   "execution_count": 19,
   "metadata": {},
   "outputs": [
    {
     "name": "stdout",
     "output_type": "stream",
     "text": [
      "examples_titanic\n"
     ]
    }
   ],
   "source": [
    "print (pipeline_name)"
   ]
  },
  {
   "cell_type": "code",
   "execution_count": 26,
   "metadata": {},
   "outputs": [
    {
     "name": "stdout",
     "output_type": "stream",
     "text": [
      "CLI\n",
      "Creating a run for pipeline: examples_metalearning\n",
      "Run created for pipeline: examples_metalearning\n",
      "+-----------------------+--------------------------------------+----------+---------------------------+--------------------------------------------------------------------------------------------------------------------------+\n",
      "| pipeline_name         | run_id                               | status   | created_at                | link                                                                                                                     |\n",
      "+=======================+======================================+==========+===========================+==========================================================================================================================+\n",
      "| examples_metalearning | ea69c8f7-45cb-444c-a725-696094145821 |          | 2020-07-24T23:40:36+00:00 | http://70a793405e3e430c-dot-us-east1.pipelines.googleusercontent.com/#/runs/details/ea69c8f7-45cb-444c-a725-696094145821 |\n",
      "+-----------------------+--------------------------------------+----------+---------------------------+--------------------------------------------------------------------------------------------------------------------------+\n",
      "\u001b[0m"
     ]
    }
   ],
   "source": [
    "!tfx run create --pipeline-name={pipeline_name}  --endpoint={ENDPOINT} --engine='kubeflow'"
   ]
  },
  {
   "cell_type": "code",
   "execution_count": 28,
   "metadata": {},
   "outputs": [],
   "source": [
    "# !kfp --endpoint {ENDPOINT} --namespace kubeflow diagnose_me"
   ]
  },
  {
   "cell_type": "code",
   "execution_count": 29,
   "metadata": {},
   "outputs": [],
   "source": [
    "import tensorflow_datasets"
   ]
  },
  {
   "cell_type": "code",
   "execution_count": null,
   "metadata": {},
   "outputs": [],
   "source": []
  }
 ],
 "metadata": {
  "environment": {
   "name": "tf2-gpu.2-1.m48",
   "type": "gcloud",
   "uri": "gcr.io/deeplearning-platform-release/tf2-gpu.2-1:m48"
  },
  "kernelspec": {
   "display_name": "Python 3",
   "language": "python",
   "name": "python3"
  },
  "language_info": {
   "codemirror_mode": {
    "name": "ipython",
    "version": 3
   },
   "file_extension": ".py",
   "mimetype": "text/x-python",
   "name": "python",
   "nbconvert_exporter": "python",
   "pygments_lexer": "ipython3",
   "version": "3.7.6"
  }
 },
 "nbformat": 4,
 "nbformat_minor": 4
}
