{
 "cells": [
  {
   "cell_type": "code",
   "execution_count": 26,
   "metadata": {},
   "outputs": [
    {
     "name": "stdout",
     "output_type": "stream",
     "text": [
      "  % Total    % Received % Xferd  Average Speed   Time    Time     Time  Current\n",
      "                                 Dload  Upload   Total   Spent    Left  Speed\n",
      "100 44.6M  100 44.6M    0     0   127M      0 --:--:-- --:--:-- --:--:--  127M\n"
     ]
    }
   ],
   "source": [
    "import sys\n",
    "\n",
    "# install kfp (https://kubeflow-pipelines.readthedocs.io/en/latest/source/kfp.html)\n",
    "!{sys.executable} -m pip install --user --upgrade -q kfp==0.4.0\n",
    "\n",
    "# Download skaffold and set it executable.\n",
    "!curl -Lo skaffold https://storage.googleapis.com/skaffold/releases/latest/skaffold-linux-amd64 && chmod +x skaffold && mv skaffold /home/jupyter/.local/bin/"
   ]
  },
  {
   "cell_type": "code",
   "execution_count": 27,
   "metadata": {},
   "outputs": [
    {
     "name": "stdout",
     "output_type": "stream",
     "text": [
      "TFX version: 0.22.0\n"
     ]
    }
   ],
   "source": [
    "# !{sys.executable} -m pip install --user --upgrade -q tfx==0.22.0\n",
    "!python3 -c \"import tfx; print('TFX version: {}'.format(tfx.__version__))\""
   ]
  },
  {
   "cell_type": "code",
   "execution_count": 28,
   "metadata": {},
   "outputs": [
    {
     "name": "stdout",
     "output_type": "stream",
     "text": [
      "env: PATH=/usr/local/cuda/bin:/opt/conda/bin:/opt/conda/condabin:/usr/local/bin:/usr/bin:/bin:/usr/local/games:/usr/games:/home/jupyter/.local/bin:/home/jupyter/.local/bin\n"
     ]
    }
   ],
   "source": [
    "# Set `PATH` to include user python binary directory and a directory containing `skaffold`.\n",
    "PATH=%env PATH\n",
    "%env PATH={PATH}:/home/jupyter/.local/bin"
   ]
  },
  {
   "cell_type": "code",
   "execution_count": 29,
   "metadata": {},
   "outputs": [
    {
     "name": "stdout",
     "output_type": "stream",
     "text": [
      "GCP project ID:nitroml-brain-xgcp\n"
     ]
    }
   ],
   "source": [
    "# Read GCP project id from env.\n",
    "shell_output=!gcloud config list --format 'value(core.project)' 2>/dev/null\n",
    "GCP_PROJECT_ID=shell_output[0]\n",
    "print(\"GCP project ID:\" + GCP_PROJECT_ID)"
   ]
  },
  {
   "cell_type": "markdown",
   "metadata": {},
   "source": [
    "# Set KFP Cluster End point"
   ]
  },
  {
   "cell_type": "code",
   "execution_count": 30,
   "metadata": {},
   "outputs": [],
   "source": [
    "# This refers to the KFP cluster endpoint\n",
    "ENDPOINT='ee1a2cabbbc2f13-dot-us-east1.pipelines.googleusercontent.com' # Enter your ENDPOINT here.\n",
    "if not ENDPOINT:\n",
    "    from absl import logging\n",
    "    logging.error('Set your ENDPOINT in this cell.')"
   ]
  },
  {
   "cell_type": "code",
   "execution_count": 31,
   "metadata": {},
   "outputs": [],
   "source": [
    "# Docker image name for the pipeline image \n",
    "IMAGE_NAME = 'nitroml_benchmark4'\n",
    "CUSTOM_TFX_IMAGE='gcr.io/' + GCP_PROJECT_ID + '/' + IMAGE_NAME"
   ]
  },
  {
   "cell_type": "code",
   "execution_count": 32,
   "metadata": {},
   "outputs": [
    {
     "name": "stdout",
     "output_type": "stream",
     "text": [
      "/home/jupyter/AIHub/nitroml\n"
     ]
    }
   ],
   "source": [
    "import os\n",
    "PROJECT_DIR=os.path.join(os.path.expanduser(\"~\"), \"AIHub\" , 'nitroml')\n",
    "%cd {PROJECT_DIR}"
   ]
  },
  {
   "cell_type": "code",
   "execution_count": 33,
   "metadata": {},
   "outputs": [],
   "source": [
    "from examples import config\n",
    "PIPELINE_NAME=config.PIPELINE_NAME"
   ]
  },
  {
   "cell_type": "code",
   "execution_count": 34,
   "metadata": {},
   "outputs": [
    {
     "data": {
      "text/plain": [
       "'nitroml_example_titanic'"
      ]
     },
     "execution_count": 34,
     "metadata": {},
     "output_type": "execute_result"
    }
   ],
   "source": [
    "PIPELINE_NAME"
   ]
  },
  {
   "cell_type": "markdown",
   "metadata": {},
   "source": [
    "## Run the tfx pipeline"
   ]
  },
  {
   "cell_type": "code",
   "execution_count": 41,
   "metadata": {},
   "outputs": [
    {
     "name": "stdout",
     "output_type": "stream",
     "text": [
      "CLI\n",
      "Creating pipeline\n",
      "Detected Kubeflow.\n",
      "Use --engine flag if you intend to use a different orchestrator.\n",
      "Reading build spec from build.yaml\n",
      "Target image gcr.io/nitroml-brain-xgcp/nitroml_benchmark4 is not used. If the build spec is provided, update the target image in the build spec file build.yaml.\n",
      "Use skaffold to build the container image.\n",
      "/home/jupyter/.local/bin/skaffold\n",
      "New container image is built. Target image is available in the build spec file.\n",
      "/home/jupyter/.local/lib/python3.7/site-packages/tfx/orchestration/data_types.py:191: UserWarning: RuntimeParameter is only supported on KubeflowDagRunner currently.\n",
      "  warnings.warn('RuntimeParameter is only supported on KubeflowDagRunner '\n",
      "I0629 22:52:52.900227 140630499751296 dataset_info.py:361] Load dataset info from gs://artifacts.nitroml-brain-xgcp.appspot.com/tensorflow-datasets/titanic/2.0.0\n",
      "I0629 22:52:53.713327 140630499751296 tfds_dataset.py:46] Preparing dataset...\n",
      "I0629 22:52:53.757496 140630499751296 dataset_builder.py:282] Reusing dataset titanic (gs://artifacts.nitroml-brain-xgcp.appspot.com/tensorflow-datasets/titanic/2.0.0)\n",
      "I0629 22:52:53.757742 140630499751296 tfds_dataset.py:48] tfds.core.DatasetInfo(\n",
      "    name='titanic',\n",
      "    version=2.0.0,\n",
      "    description='Dataset describing the survival status of individual passengers on the Titanic. Missing values in the original dataset are represented using ?. Float and int missing values are replaced with -1, string missing values are replaced with 'Unknown'.',\n",
      "    homepage='https://www.openml.org/d/40945',\n",
      "    features=FeaturesDict({\n",
      "        'features': FeaturesDict({\n",
      "            'age': tf.float32,\n",
      "            'boat': tf.string,\n",
      "            'body': tf.int32,\n",
      "            'cabin': tf.string,\n",
      "            'embarked': ClassLabel(shape=(), dtype=tf.int64, num_classes=4),\n",
      "            'fare': tf.float32,\n",
      "            'home.dest': tf.string,\n",
      "            'name': tf.string,\n",
      "            'parch': tf.int32,\n",
      "            'pclass': ClassLabel(shape=(), dtype=tf.int64, num_classes=3),\n",
      "            'sex': ClassLabel(shape=(), dtype=tf.int64, num_classes=2),\n",
      "            'sibsp': tf.int32,\n",
      "            'ticket': tf.string,\n",
      "        }),\n",
      "        'survived': ClassLabel(shape=(), dtype=tf.int64, num_classes=2),\n",
      "    }),\n",
      "    total_num_examples=1309,\n",
      "    splits={\n",
      "        'train': 1309,\n",
      "    },\n",
      "    supervised_keys=('features', 'survived'),\n",
      "    citation=\"\"\"@ONLINE {titanic,\n",
      "    author = \"Frank E. Harrell Jr., Thomas Cason\",\n",
      "    title  = \"Titanic dataset\",\n",
      "    month  = \"oct\",\n",
      "    year   = \"2017\",\n",
      "    url    = \"https://www.openml.org/d/40945\"\n",
      "    }\"\"\",\n",
      "    redistribution_info=,\n",
      ")\n",
      "\n",
      "I0629 22:52:53.758924 140630499751296 tfds_dataset.py:64] Splits: [name: \"train\"\n",
      "pattern: \"titanic-train.tfrecord-00000-of-00001\"\n",
      "]\n",
      "I0629 22:52:53.761338 140630499751296 component.py:131] Neither eval_config nor feature_slicing_spec is passed, the model is treated as estimator.\n",
      "W0629 22:52:53.761484 140630499751296 component.py:142] feature_slicing_spec is deprecated, please use eval_config instead.\n",
      "I0629 22:52:54.347933 140630499751296 nitroml.py:211] NitroML benchmarks:\n",
      "I0629 22:52:54.348161 140630499751296 nitroml.py:214] \tTitanicBenchmark.benchmark\n",
      "I0629 22:52:54.348286 140630499751296 nitroml.py:215] \t\tRUNNING\n",
      "I0629 22:52:54.356645 140630499751296 base_component.py:137] Adding upstream dependencies for component ImportExampleGen_TitanicBenchmark_benchmark\n",
      "I0629 22:52:54.358244 140630499751296 base_component.py:137] Adding upstream dependencies for component StatisticsGen_TitanicBenchmark_benchmark\n",
      "I0629 22:52:54.358396 140630499751296 base_component.py:139]    ->  Component: ImportExampleGen_TitanicBenchmark_benchmark\n",
      "I0629 22:52:54.359651 140630499751296 base_component.py:137] Adding upstream dependencies for component SchemaGen_TitanicBenchmark_benchmark\n",
      "I0629 22:52:54.359778 140630499751296 base_component.py:139]    ->  Component: StatisticsGen_TitanicBenchmark_benchmark\n",
      "I0629 22:52:54.361421 140630499751296 base_component.py:137] Adding upstream dependencies for component Transform_TitanicBenchmark_benchmark\n",
      "I0629 22:52:54.361548 140630499751296 base_component.py:139]    ->  Component: ImportExampleGen_TitanicBenchmark_benchmark\n",
      "I0629 22:52:54.361653 140630499751296 base_component.py:139]    ->  Component: SchemaGen_TitanicBenchmark_benchmark\n",
      "I0629 22:52:54.363773 140630499751296 base_component.py:137] Adding upstream dependencies for component Trainer_TitanicBenchmark_benchmark\n",
      "I0629 22:52:54.363921 140630499751296 base_component.py:139]    ->  Component: Transform_TitanicBenchmark_benchmark\n",
      "I0629 22:52:54.364008 140630499751296 base_component.py:139]    ->  Component: SchemaGen_TitanicBenchmark_benchmark\n",
      "I0629 22:52:54.366202 140630499751296 base_component.py:137] Adding upstream dependencies for component Evaluator_TitanicBenchmark_benchmark\n",
      "I0629 22:52:54.366357 140630499751296 base_component.py:139]    ->  Component: ImportExampleGen_TitanicBenchmark_benchmark\n",
      "I0629 22:52:54.366451 140630499751296 base_component.py:139]    ->  Component: Trainer_TitanicBenchmark_benchmark\n",
      "I0629 22:52:54.367862 140630499751296 base_component.py:137] Adding upstream dependencies for component BenchmarkResultPublisher_TitanicBenchmark_benchmark\n",
      "I0629 22:52:54.367997 140630499751296 base_component.py:139]    ->  Component: Evaluator_TitanicBenchmark_benchmark\n",
      "Pipeline compiled successfully.\n",
      "Pipeline package path: /home/jupyter/AIHub/nitroml/nitroml_example_titanic.tar.gz\n",
      "{'created_at': datetime.datetime(2020, 6, 29, 22, 52, 55, tzinfo=tzlocal()),\n",
      " 'default_version': {'code_source_url': None,\n",
      "                     'created_at': datetime.datetime(2020, 6, 29, 22, 52, 55, tzinfo=tzlocal()),\n",
      "                     'id': '779b014d-2a69-4355-9693-e1a49488a341',\n",
      "                     'name': 'nitroml_example_titanic',\n",
      "                     'package_url': None,\n",
      "                     'parameters': [{'name': 'pipeline-root',\n",
      "                                     'value': 'gs://artifacts.nitroml-brain-xgcp.appspot.com/nitroml_example_titanic'}],\n",
      "                     'resource_references': [{'key': {'id': '779b014d-2a69-4355-9693-e1a49488a341',\n",
      "                                                      'type': 'PIPELINE'},\n",
      "                                              'name': None,\n",
      "                                              'relationship': 'OWNER'}]},\n",
      " 'description': None,\n",
      " 'error': None,\n",
      " 'id': '779b014d-2a69-4355-9693-e1a49488a341',\n",
      " 'name': 'nitroml_example_titanic',\n",
      " 'parameters': [{'name': 'pipeline-root',\n",
      "                 'value': 'gs://artifacts.nitroml-brain-xgcp.appspot.com/nitroml_example_titanic'}],\n",
      " 'url': None}\n",
      "Please access the pipeline detail page at http://ee1a2cabbbc2f13-dot-us-east1.pipelines.googleusercontent.com/#/pipelines/details/779b014d-2a69-4355-9693-e1a49488a341\n",
      "Pipeline \"nitroml_example_titanic\" created successfully.\n"
     ]
    }
   ],
   "source": [
    "!tfx pipeline create  \\\n",
    "--pipeline-path=examples/titanic_benchmark.py \\\n",
    "--endpoint={ENDPOINT} \\\n",
    "--build-target-image={CUSTOM_TFX_IMAGE}"
   ]
  },
  {
   "cell_type": "code",
   "execution_count": 42,
   "metadata": {},
   "outputs": [
    {
     "name": "stdout",
     "output_type": "stream",
     "text": [
      "CLI\n",
      "Creating a run for pipeline: nitroml_example_titanic\n",
      "Detected Kubeflow.\n",
      "Use --engine flag if you intend to use a different orchestrator.\n",
      "Run created for pipeline: nitroml_example_titanic\n",
      "+-------------------------+--------------------------------------+----------+---------------------------+-------------------------------------------------------------------------------------------------------------------------+\n",
      "| pipeline_name           | run_id                               | status   | created_at                | link                                                                                                                    |\n",
      "+=========================+======================================+==========+===========================+=========================================================================================================================+\n",
      "| nitroml_example_titanic | 0004ebc9-12bf-41b3-b97b-98fe58247227 |          | 2020-06-29T22:53:12+00:00 | http://ee1a2cabbbc2f13-dot-us-east1.pipelines.googleusercontent.com/#/runs/details/0004ebc9-12bf-41b3-b97b-98fe58247227 |\n",
      "+-------------------------+--------------------------------------+----------+---------------------------+-------------------------------------------------------------------------------------------------------------------------+\n"
     ]
    }
   ],
   "source": [
    "!tfx run create --pipeline-name={config.PIPELINE_NAME} --endpoint={ENDPOINT}"
   ]
  },
  {
   "cell_type": "code",
   "execution_count": 46,
   "metadata": {},
   "outputs": [
    {
     "name": "stdout",
     "output_type": "stream",
     "text": [
      "CLI\n",
      "Updating pipeline\n",
      "Detected Kubeflow.\n",
      "Use --engine flag if you intend to use a different orchestrator.\n",
      "Reading build spec from build.yaml\n",
      "Use skaffold to build the container image.\n",
      "/home/jupyter/.local/bin/skaffold\n",
      "New container image is built. Target image is available in the build spec file.\n",
      "/home/jupyter/.local/lib/python3.7/site-packages/tfx/orchestration/data_types.py:191: UserWarning: RuntimeParameter is only supported on KubeflowDagRunner currently.\n",
      "  warnings.warn('RuntimeParameter is only supported on KubeflowDagRunner '\n",
      "I0630 00:52:44.680480 139796339103104 dataset_info.py:361] Load dataset info from gs://artifacts.nitroml-brain-xgcp.appspot.com/tensorflow-datasets/titanic/2.0.0\n",
      "I0630 00:52:45.684609 139796339103104 tfds_dataset.py:46] Preparing dataset...\n",
      "I0630 00:52:45.722826 139796339103104 dataset_builder.py:282] Reusing dataset titanic (gs://artifacts.nitroml-brain-xgcp.appspot.com/tensorflow-datasets/titanic/2.0.0)\n",
      "I0630 00:52:45.723062 139796339103104 tfds_dataset.py:48] tfds.core.DatasetInfo(\n",
      "    name='titanic',\n",
      "    version=2.0.0,\n",
      "    description='Dataset describing the survival status of individual passengers on the Titanic. Missing values in the original dataset are represented using ?. Float and int missing values are replaced with -1, string missing values are replaced with 'Unknown'.',\n",
      "    homepage='https://www.openml.org/d/40945',\n",
      "    features=FeaturesDict({\n",
      "        'features': FeaturesDict({\n",
      "            'age': tf.float32,\n",
      "            'boat': tf.string,\n",
      "            'body': tf.int32,\n",
      "            'cabin': tf.string,\n",
      "            'embarked': ClassLabel(shape=(), dtype=tf.int64, num_classes=4),\n",
      "            'fare': tf.float32,\n",
      "            'home.dest': tf.string,\n",
      "            'name': tf.string,\n",
      "            'parch': tf.int32,\n",
      "            'pclass': ClassLabel(shape=(), dtype=tf.int64, num_classes=3),\n",
      "            'sex': ClassLabel(shape=(), dtype=tf.int64, num_classes=2),\n",
      "            'sibsp': tf.int32,\n",
      "            'ticket': tf.string,\n",
      "        }),\n",
      "        'survived': ClassLabel(shape=(), dtype=tf.int64, num_classes=2),\n",
      "    }),\n",
      "    total_num_examples=1309,\n",
      "    splits={\n",
      "        'train': 1309,\n",
      "    },\n",
      "    supervised_keys=('features', 'survived'),\n",
      "    citation=\"\"\"@ONLINE {titanic,\n",
      "    author = \"Frank E. Harrell Jr., Thomas Cason\",\n",
      "    title  = \"Titanic dataset\",\n",
      "    month  = \"oct\",\n",
      "    year   = \"2017\",\n",
      "    url    = \"https://www.openml.org/d/40945\"\n",
      "    }\"\"\",\n",
      "    redistribution_info=,\n",
      ")\n",
      "\n",
      "I0630 00:52:45.724302 139796339103104 tfds_dataset.py:64] Splits: [name: \"train\"\n",
      "pattern: \"titanic-train.tfrecord-00000-of-00001\"\n",
      "]\n",
      "I0630 00:52:45.726538 139796339103104 component.py:131] Neither eval_config nor feature_slicing_spec is passed, the model is treated as estimator.\n",
      "W0630 00:52:45.726698 139796339103104 component.py:142] feature_slicing_spec is deprecated, please use eval_config instead.\n",
      "I0630 00:52:45.827713 139796339103104 nitroml.py:210] NitroML benchmarks:\n",
      "I0630 00:52:45.827936 139796339103104 nitroml.py:213] \tTitanicBenchmark.benchmark\n",
      "I0630 00:52:45.828060 139796339103104 nitroml.py:214] \t\tRUNNING\n",
      "I0630 00:52:45.838790 139796339103104 base_component.py:137] Adding upstream dependencies for component ImportExampleGen_TitanicBenchmark_benchmark\n",
      "I0630 00:52:45.840315 139796339103104 base_component.py:137] Adding upstream dependencies for component StatisticsGen_TitanicBenchmark_benchmark\n",
      "I0630 00:52:45.840476 139796339103104 base_component.py:139]    ->  Component: ImportExampleGen_TitanicBenchmark_benchmark\n",
      "I0630 00:52:45.841624 139796339103104 base_component.py:137] Adding upstream dependencies for component SchemaGen_TitanicBenchmark_benchmark\n",
      "I0630 00:52:45.841741 139796339103104 base_component.py:139]    ->  Component: StatisticsGen_TitanicBenchmark_benchmark\n",
      "I0630 00:52:45.843291 139796339103104 base_component.py:137] Adding upstream dependencies for component Transform_TitanicBenchmark_benchmark\n",
      "I0630 00:52:45.843403 139796339103104 base_component.py:139]    ->  Component: ImportExampleGen_TitanicBenchmark_benchmark\n",
      "I0630 00:52:45.843524 139796339103104 base_component.py:139]    ->  Component: SchemaGen_TitanicBenchmark_benchmark\n",
      "I0630 00:52:45.845035 139796339103104 base_component.py:137] Adding upstream dependencies for component Trainer_TitanicBenchmark_benchmark\n",
      "I0630 00:52:45.845148 139796339103104 base_component.py:139]    ->  Component: Transform_TitanicBenchmark_benchmark\n",
      "I0630 00:52:45.845237 139796339103104 base_component.py:139]    ->  Component: SchemaGen_TitanicBenchmark_benchmark\n",
      "I0630 00:52:45.846706 139796339103104 base_component.py:137] Adding upstream dependencies for component Evaluator_TitanicBenchmark_benchmark\n",
      "I0630 00:52:45.846824 139796339103104 base_component.py:139]    ->  Component: ImportExampleGen_TitanicBenchmark_benchmark\n",
      "I0630 00:52:45.846914 139796339103104 base_component.py:139]    ->  Component: Trainer_TitanicBenchmark_benchmark\n",
      "I0630 00:52:45.847952 139796339103104 base_component.py:137] Adding upstream dependencies for component BenchmarkResultPublisher_TitanicBenchmark_benchmark\n",
      "I0630 00:52:45.848060 139796339103104 base_component.py:139]    ->  Component: Evaluator_TitanicBenchmark_benchmark\n",
      "Pipeline compiled successfully.\n",
      "Pipeline package path: /home/jupyter/AIHub/nitroml/nitroml_example_titanic.tar.gz\n",
      "{'code_source_url': None,\n",
      " 'created_at': datetime.datetime(2020, 6, 30, 0, 52, 46, tzinfo=tzlocal()),\n",
      " 'id': '98ac6517-ab5d-48b3-92a4-28dc92a9c894',\n",
      " 'name': 'nitroml_example_titanic_20200630005246',\n",
      " 'package_url': None,\n",
      " 'parameters': [{'name': 'pipeline-root',\n",
      "                 'value': 'gs://artifacts.nitroml-brain-xgcp.appspot.com/nitroml_example_titanic'}],\n",
      " 'resource_references': [{'key': {'id': '779b014d-2a69-4355-9693-e1a49488a341',\n",
      "                                  'type': 'PIPELINE'},\n",
      "                          'name': None,\n",
      "                          'relationship': 'OWNER'}]}\n",
      "Please access the pipeline detail page at http://ee1a2cabbbc2f13-dot-us-east1.pipelines.googleusercontent.com/#/pipelines/details/779b014d-2a69-4355-9693-e1a49488a341\n",
      "Pipeline \"nitroml_example_titanic\" updated successfully.\n",
      "CLI\n",
      "Creating a run for pipeline: nitroml_example_titanic\n",
      "Detected Kubeflow.\n",
      "Use --engine flag if you intend to use a different orchestrator.\n",
      "Run created for pipeline: nitroml_example_titanic\n",
      "+-------------------------+--------------------------------------+----------+---------------------------+-------------------------------------------------------------------------------------------------------------------------+\n",
      "| pipeline_name           | run_id                               | status   | created_at                | link                                                                                                                    |\n",
      "+=========================+======================================+==========+===========================+=========================================================================================================================+\n",
      "| nitroml_example_titanic | c0d88c14-8615-49ae-9e45-f48c95b5c9bc |          | 2020-06-30T00:52:54+00:00 | http://ee1a2cabbbc2f13-dot-us-east1.pipelines.googleusercontent.com/#/runs/details/c0d88c14-8615-49ae-9e45-f48c95b5c9bc |\n",
      "+-------------------------+--------------------------------------+----------+---------------------------+-------------------------------------------------------------------------------------------------------------------------+\n"
     ]
    }
   ],
   "source": [
    "# If we update the pipeline\n",
    "!tfx pipeline update \\\n",
    "--pipeline-path=examples/titanic_benchmark.py \\\n",
    "--endpoint={ENDPOINT}\n",
    "\n",
    "!tfx run create --pipeline-name {PIPELINE_NAME} --endpoint={ENDPOINT}"
   ]
  },
  {
   "cell_type": "code",
   "execution_count": null,
   "metadata": {},
   "outputs": [],
   "source": []
  }
 ],
 "metadata": {
  "environment": {
   "name": "tf2-gpu.2-1.m48",
   "type": "gcloud",
   "uri": "gcr.io/deeplearning-platform-release/tf2-gpu.2-1:m48"
  },
  "kernelspec": {
   "display_name": "Python 3",
   "language": "python",
   "name": "python3"
  },
  "language_info": {
   "codemirror_mode": {
    "name": "ipython",
    "version": 3
   },
   "file_extension": ".py",
   "mimetype": "text/x-python",
   "name": "python",
   "nbconvert_exporter": "python",
   "pygments_lexer": "ipython3",
   "version": "3.7.6"
  }
 },
 "nbformat": 4,
 "nbformat_minor": 4
}
