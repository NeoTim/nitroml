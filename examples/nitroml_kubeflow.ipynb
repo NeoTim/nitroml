{
 "cells": [
  {
   "cell_type": "code",
   "execution_count": 1,
   "metadata": {},
   "outputs": [],
   "source": [
    "##### Copyright 2020 Google LLC."
   ]
  },
  {
   "cell_type": "code",
   "execution_count": 1,
   "metadata": {},
   "outputs": [],
   "source": [
    "#@title Licensed under the Apache License, Version 2.0 (the \"License\");\n",
    "# you may not use this file except in compliance with the License.\n",
    "# You may obtain a copy of the License at\n",
    "#\n",
    "# https://www.apache.org/licenses/LICENSE-2.0\n",
    "#\n",
    "# Unless required by applicable law or agreed to in writing, software\n",
    "# distributed under the License is distributed on an \"AS IS\" BASIS,\n",
    "# WITHOUT WARRANTIES OR CONDITIONS OF ANY KIND, either express or implied.\n",
    "# See the License for the specific language governing permissions and\n",
    "# limitations under the License."
   ]
  },
  {
   "cell_type": "markdown",
   "metadata": {},
   "source": [
    "# Demo for NitroML on Cloud using KubeFlow "
   ]
  },
  {
   "cell_type": "markdown",
   "metadata": {},
   "source": [
    "## Step 1: Get `kfp` and `skaffold`. "
   ]
  },
  {
   "cell_type": "code",
   "execution_count": 1,
   "metadata": {},
   "outputs": [
    {
     "name": "stdout",
     "output_type": "stream",
     "text": [
      "  % Total    % Received % Xferd  Average Speed   Time    Time     Time  Current\n",
      "                                 Dload  Upload   Total   Spent    Left  Speed\n",
      "100 44.6M  100 44.6M    0     0  74.0M      0 --:--:-- --:--:-- --:--:-- 74.0M\n",
      "env: PATH=/usr/local/cuda/bin:/opt/conda/bin:/opt/conda/condabin:/usr/local/bin:/usr/bin:/bin:/usr/local/games:/usr/games:/home/jupyter/.local/bin\n"
     ]
    }
   ],
   "source": [
    "import sys\n",
    "\n",
    "# install kfp (https://kubeflow-pipelines.readthedocs.io/en/latest/source/kfp.html)\n",
    "!{sys.executable} -m pip install --user --upgrade -q kfp==0.4.0\n",
    "\n",
    "# Download skaffold and set it executable.\n",
    "!curl -Lo skaffold https://storage.googleapis.com/skaffold/releases/latest/skaffold-linux-amd64 && chmod +x skaffold && mv skaffold /home/jupyter/.local/bin/\n",
    "    \n",
    "# Set `PATH` to include user python binary directory and a directory containing `skaffold`.\n",
    "PATH=%env PATH\n",
    "%env PATH={PATH}:/home/jupyter/.local/bin"
   ]
  },
  {
   "cell_type": "markdown",
   "metadata": {},
   "source": [
    "## Step 2: Check and install  tfx (if necessary)\n",
    "#### If TFX is not installed, uncomment the pip install command below. We have tested this example with `tfx==0.22.0`"
   ]
  },
  {
   "cell_type": "code",
   "execution_count": 2,
   "metadata": {},
   "outputs": [
    {
     "name": "stdout",
     "output_type": "stream",
     "text": [
      "TFX version: 0.22.0\n"
     ]
    }
   ],
   "source": [
    "# !{sys.executable} -m pip install --user --upgrade -q tfx==0.22.0\n",
    "!python3 -c \"import tfx; print('TFX version: {}'.format(tfx.__version__))\""
   ]
  },
  {
   "cell_type": "markdown",
   "metadata": {},
   "source": [
    "## Step 3: Get the GCP project ID and create Docker image name"
   ]
  },
  {
   "cell_type": "code",
   "execution_count": 3,
   "metadata": {},
   "outputs": [
    {
     "name": "stdout",
     "output_type": "stream",
     "text": [
      "GCP project ID:nitroml-brain-xgcp\n"
     ]
    }
   ],
   "source": [
    "# Read GCP project id from env.\n",
    "shell_output=!gcloud config list --format 'value(core.project)' 2>/dev/null\n",
    "GCP_PROJECT_ID=shell_output[0]\n",
    "print(\"GCP project ID:\" + GCP_PROJECT_ID)"
   ]
  },
  {
   "cell_type": "code",
   "execution_count": 4,
   "metadata": {},
   "outputs": [],
   "source": [
    "# Docker image name for the pipeline image \n",
    "IMAGE_NAME = 'nitroml_benchmark4'\n",
    "CUSTOM_TFX_IMAGE='gcr.io/' + GCP_PROJECT_ID + '/' + IMAGE_NAME"
   ]
  },
  {
   "cell_type": "markdown",
   "metadata": {},
   "source": [
    "## Step 4: Set KFP Cluster End point"
   ]
  },
  {
   "cell_type": "code",
   "execution_count": 8,
   "metadata": {},
   "outputs": [],
   "source": [
    "# This refers to the KFP cluster endpoint\n",
    "# To find your endpoint, go to: Google_Project_Console -> AI_PLATFORMS -> PIPELINES. \n",
    "# Then for the cluster you want to run your pipeline on, click on the \"Open Pipeline Dashboard\". Copy the url \"*.googleusercontent.com\". This is your ENDPOINT var.\n",
    "ENDPOINT='ee1a2cabbbc2f13-dot-us-east1.pipelines.googleusercontent.com' # Enter your ENDPOINT here.\n",
    "if not ENDPOINT:\n",
    "    from absl import logging\n",
    "    logging.error('Set your ENDPOINT in this cell.')"
   ]
  },
  {
   "cell_type": "code",
   "execution_count": 12,
   "metadata": {},
   "outputs": [
    {
     "name": "stdout",
     "output_type": "stream",
     "text": [
      "/home/jupyter/AIHub/nitroml\n"
     ]
    }
   ],
   "source": [
    "import sys, os\n",
    "PROJECT_DIR=os.path.join(sys.path[0], '..')\n",
    "%cd {PROJECT_DIR}"
   ]
  },
  {
   "cell_type": "code",
   "execution_count": 13,
   "metadata": {},
   "outputs": [],
   "source": [
    "from examples import config\n",
    "PIPELINE_NAME=config.PIPELINE_NAME"
   ]
  },
  {
   "cell_type": "markdown",
   "metadata": {},
   "source": [
    "## Step 5: Create the tfx pipeline"
   ]
  },
  {
   "cell_type": "code",
   "execution_count": 15,
   "metadata": {},
   "outputs": [
    {
     "name": "stdout",
     "output_type": "stream",
     "text": [
      "CLI\n",
      "Creating pipeline\n",
      "Detected Kubeflow.\n",
      "Use --engine flag if you intend to use a different orchestrator.\n",
      "Reading build spec from build.yaml\n",
      "Target image gcr.io/nitroml-brain-xgcp/nitroml_benchmark4 is not used. If the build spec is provided, update the target image in the build spec file build.yaml.\n",
      "Use skaffold to build the container image.\n",
      "/home/jupyter/.local/bin/skaffold\n",
      "New container image is built. Target image is available in the build spec file.\n",
      "/home/jupyter/.local/lib/python3.7/site-packages/tfx/orchestration/data_types.py:191: UserWarning: RuntimeParameter is only supported on KubeflowDagRunner currently.\n",
      "  warnings.warn('RuntimeParameter is only supported on KubeflowDagRunner '\n",
      "I0701 04:52:09.013455 140082093438336 dataset_info.py:361] Load dataset info from gs://artifacts.nitroml-brain-xgcp.appspot.com/tensorflow-datasets/titanic/2.0.0\n",
      "I0701 04:52:10.071017 140082093438336 tfds_dataset.py:45] Preparing dataset...\n",
      "I0701 04:52:10.105897 140082093438336 dataset_builder.py:282] Reusing dataset titanic (gs://artifacts.nitroml-brain-xgcp.appspot.com/tensorflow-datasets/titanic/2.0.0)\n",
      "I0701 04:52:10.106174 140082093438336 tfds_dataset.py:47] tfds.core.DatasetInfo(\n",
      "    name='titanic',\n",
      "    version=2.0.0,\n",
      "    description='Dataset describing the survival status of individual passengers on the Titanic. Missing values in the original dataset are represented using ?. Float and int missing values are replaced with -1, string missing values are replaced with 'Unknown'.',\n",
      "    homepage='https://www.openml.org/d/40945',\n",
      "    features=FeaturesDict({\n",
      "        'features': FeaturesDict({\n",
      "            'age': tf.float32,\n",
      "            'boat': tf.string,\n",
      "            'body': tf.int32,\n",
      "            'cabin': tf.string,\n",
      "            'embarked': ClassLabel(shape=(), dtype=tf.int64, num_classes=4),\n",
      "            'fare': tf.float32,\n",
      "            'home.dest': tf.string,\n",
      "            'name': tf.string,\n",
      "            'parch': tf.int32,\n",
      "            'pclass': ClassLabel(shape=(), dtype=tf.int64, num_classes=3),\n",
      "            'sex': ClassLabel(shape=(), dtype=tf.int64, num_classes=2),\n",
      "            'sibsp': tf.int32,\n",
      "            'ticket': tf.string,\n",
      "        }),\n",
      "        'survived': ClassLabel(shape=(), dtype=tf.int64, num_classes=2),\n",
      "    }),\n",
      "    total_num_examples=1309,\n",
      "    splits={\n",
      "        'train': 1309,\n",
      "    },\n",
      "    supervised_keys=('features', 'survived'),\n",
      "    citation=\"\"\"@ONLINE {titanic,\n",
      "    author = \"Frank E. Harrell Jr., Thomas Cason\",\n",
      "    title  = \"Titanic dataset\",\n",
      "    month  = \"oct\",\n",
      "    year   = \"2017\",\n",
      "    url    = \"https://www.openml.org/d/40945\"\n",
      "    }\"\"\",\n",
      "    redistribution_info=,\n",
      ")\n",
      "\n",
      "I0701 04:52:10.107762 140082093438336 tfds_dataset.py:63] Splits: [name: \"train\"\n",
      "pattern: \"titanic-train.tfrecord-00000-of-00001\"\n",
      "]\n",
      "I0701 04:52:10.110665 140082093438336 component.py:131] Neither eval_config nor feature_slicing_spec is passed, the model is treated as estimator.\n",
      "W0701 04:52:10.110825 140082093438336 component.py:142] feature_slicing_spec is deprecated, please use eval_config instead.\n",
      "I0701 04:52:10.224609 140082093438336 nitroml.py:217] NitroML benchmarks:\n",
      "I0701 04:52:10.224900 140082093438336 nitroml.py:220] \tTitanicBenchmark.benchmark\n",
      "I0701 04:52:10.225056 140082093438336 nitroml.py:221] \t\tRUNNING\n",
      "I0701 04:52:10.237326 140082093438336 base_component.py:137] Adding upstream dependencies for component ImportExampleGen_TitanicBenchmark_benchmark\n",
      "I0701 04:52:10.239001 140082093438336 base_component.py:137] Adding upstream dependencies for component StatisticsGen_TitanicBenchmark_benchmark\n",
      "I0701 04:52:10.239164 140082093438336 base_component.py:139]    ->  Component: ImportExampleGen_TitanicBenchmark_benchmark\n",
      "I0701 04:52:10.240770 140082093438336 base_component.py:137] Adding upstream dependencies for component SchemaGen_TitanicBenchmark_benchmark\n",
      "I0701 04:52:10.240920 140082093438336 base_component.py:139]    ->  Component: StatisticsGen_TitanicBenchmark_benchmark\n",
      "I0701 04:52:10.242862 140082093438336 base_component.py:137] Adding upstream dependencies for component Transform_TitanicBenchmark_benchmark\n",
      "I0701 04:52:10.242990 140082093438336 base_component.py:139]    ->  Component: ImportExampleGen_TitanicBenchmark_benchmark\n",
      "I0701 04:52:10.243097 140082093438336 base_component.py:139]    ->  Component: SchemaGen_TitanicBenchmark_benchmark\n",
      "I0701 04:52:10.244956 140082093438336 base_component.py:137] Adding upstream dependencies for component Trainer_TitanicBenchmark_benchmark\n",
      "I0701 04:52:10.245102 140082093438336 base_component.py:139]    ->  Component: SchemaGen_TitanicBenchmark_benchmark\n",
      "I0701 04:52:10.245239 140082093438336 base_component.py:139]    ->  Component: Transform_TitanicBenchmark_benchmark\n",
      "I0701 04:52:10.247158 140082093438336 base_component.py:137] Adding upstream dependencies for component Evaluator_TitanicBenchmark_benchmark\n",
      "I0701 04:52:10.247302 140082093438336 base_component.py:139]    ->  Component: ImportExampleGen_TitanicBenchmark_benchmark\n",
      "I0701 04:52:10.247412 140082093438336 base_component.py:139]    ->  Component: Trainer_TitanicBenchmark_benchmark\n",
      "I0701 04:52:10.248727 140082093438336 base_component.py:137] Adding upstream dependencies for component BenchmarkResultPublisher_TitanicBenchmark_benchmark\n",
      "I0701 04:52:10.248881 140082093438336 base_component.py:139]    ->  Component: Evaluator_TitanicBenchmark_benchmark\n",
      "Pipeline compiled successfully.\n",
      "Pipeline package path: /home/jupyter/AIHub/nitroml/nitroml_examples.tar.gz\n",
      "Pipeline \"nitroml_examples\" already exists.\n"
     ]
    }
   ],
   "source": [
    "!tfx pipeline create  \\\n",
    "--pipeline-path=examples/titanic_benchmark.py \\\n",
    "--endpoint={ENDPOINT} \\\n",
    "--build-target-image={CUSTOM_TFX_IMAGE}"
   ]
  },
  {
   "cell_type": "markdown",
   "metadata": {},
   "source": [
    "## Step 6: Run the created tfx pipeline"
   ]
  },
  {
   "cell_type": "code",
   "execution_count": 16,
   "metadata": {},
   "outputs": [
    {
     "name": "stdout",
     "output_type": "stream",
     "text": [
      "CLI\n",
      "Creating a run for pipeline: nitroml_examples\n",
      "Detected Kubeflow.\n",
      "Use --engine flag if you intend to use a different orchestrator.\n",
      "Run created for pipeline: nitroml_examples\n",
      "+------------------+--------------------------------------+----------+---------------------------+-------------------------------------------------------------------------------------------------------------------------+\n",
      "| pipeline_name    | run_id                               | status   | created_at                | link                                                                                                                    |\n",
      "+==================+======================================+==========+===========================+=========================================================================================================================+\n",
      "| nitroml_examples | bb8b62f7-96a5-42ac-9c66-a7aea2dd3e95 |          | 2020-07-01T04:52:23+00:00 | http://ee1a2cabbbc2f13-dot-us-east1.pipelines.googleusercontent.com/#/runs/details/bb8b62f7-96a5-42ac-9c66-a7aea2dd3e95 |\n",
      "+------------------+--------------------------------------+----------+---------------------------+-------------------------------------------------------------------------------------------------------------------------+\n"
     ]
    }
   ],
   "source": [
    "!tfx run create --pipeline-name={config.PIPELINE_NAME} --endpoint={ENDPOINT}"
   ]
  },
  {
   "cell_type": "markdown",
   "metadata": {},
   "source": [
    "## Step 7 (Optional): If the pipeline src is updated, we will have to update the pipeline at endpoint. The following block updates the pipeline and runs it."
   ]
  },
  {
   "cell_type": "code",
   "execution_count": 15,
   "metadata": {},
   "outputs": [
    {
     "name": "stdout",
     "output_type": "stream",
     "text": [
      "CLI\n",
      "Updating pipeline\n",
      "Detected Kubeflow.\n",
      "Use --engine flag if you intend to use a different orchestrator.\n",
      "Reading build spec from build.yaml\n",
      "Use skaffold to build the container image.\n",
      "/home/jupyter/.local/bin/skaffold\n",
      "New container image is built. Target image is available in the build spec file.\n",
      "/home/jupyter/.local/lib/python3.7/site-packages/tfx/orchestration/data_types.py:191: UserWarning: RuntimeParameter is only supported on KubeflowDagRunner currently.\n",
      "  warnings.warn('RuntimeParameter is only supported on KubeflowDagRunner '\n",
      "I0630 18:16:19.162647 140205734782336 dataset_info.py:361] Load dataset info from gs://artifacts.nitroml-brain-xgcp.appspot.com/tensorflow-datasets/titanic/2.0.0\n",
      "I0630 18:16:19.895675 140205734782336 tfds_dataset.py:46] Preparing dataset...\n",
      "I0630 18:16:19.937338 140205734782336 dataset_builder.py:282] Reusing dataset titanic (gs://artifacts.nitroml-brain-xgcp.appspot.com/tensorflow-datasets/titanic/2.0.0)\n",
      "I0630 18:16:19.937591 140205734782336 tfds_dataset.py:48] tfds.core.DatasetInfo(\n",
      "    name='titanic',\n",
      "    version=2.0.0,\n",
      "    description='Dataset describing the survival status of individual passengers on the Titanic. Missing values in the original dataset are represented using ?. Float and int missing values are replaced with -1, string missing values are replaced with 'Unknown'.',\n",
      "    homepage='https://www.openml.org/d/40945',\n",
      "    features=FeaturesDict({\n",
      "        'features': FeaturesDict({\n",
      "            'age': tf.float32,\n",
      "            'boat': tf.string,\n",
      "            'body': tf.int32,\n",
      "            'cabin': tf.string,\n",
      "            'embarked': ClassLabel(shape=(), dtype=tf.int64, num_classes=4),\n",
      "            'fare': tf.float32,\n",
      "            'home.dest': tf.string,\n",
      "            'name': tf.string,\n",
      "            'parch': tf.int32,\n",
      "            'pclass': ClassLabel(shape=(), dtype=tf.int64, num_classes=3),\n",
      "            'sex': ClassLabel(shape=(), dtype=tf.int64, num_classes=2),\n",
      "            'sibsp': tf.int32,\n",
      "            'ticket': tf.string,\n",
      "        }),\n",
      "        'survived': ClassLabel(shape=(), dtype=tf.int64, num_classes=2),\n",
      "    }),\n",
      "    total_num_examples=1309,\n",
      "    splits={\n",
      "        'train': 1309,\n",
      "    },\n",
      "    supervised_keys=('features', 'survived'),\n",
      "    citation=\"\"\"@ONLINE {titanic,\n",
      "    author = \"Frank E. Harrell Jr., Thomas Cason\",\n",
      "    title  = \"Titanic dataset\",\n",
      "    month  = \"oct\",\n",
      "    year   = \"2017\",\n",
      "    url    = \"https://www.openml.org/d/40945\"\n",
      "    }\"\"\",\n",
      "    redistribution_info=,\n",
      ")\n",
      "\n",
      "I0630 18:16:19.938761 140205734782336 tfds_dataset.py:64] Splits: [name: \"train\"\n",
      "pattern: \"titanic-train.tfrecord-00000-of-00001\"\n",
      "]\n",
      "I0630 18:16:19.940718 140205734782336 component.py:131] Neither eval_config nor feature_slicing_spec is passed, the model is treated as estimator.\n",
      "W0630 18:16:19.940857 140205734782336 component.py:142] feature_slicing_spec is deprecated, please use eval_config instead.\n",
      "I0630 18:16:20.057859 140205734782336 nitroml.py:212] NitroML benchmarks:\n",
      "I0630 18:16:20.058094 140205734782336 nitroml.py:215] \tTitanicBenchmark.benchmark\n",
      "I0630 18:16:20.058198 140205734782336 nitroml.py:216] \t\tRUNNING\n",
      "I0630 18:16:20.069247 140205734782336 base_component.py:137] Adding upstream dependencies for component ImportExampleGen_TitanicBenchmark_benchmark\n",
      "I0630 18:16:20.070618 140205734782336 base_component.py:137] Adding upstream dependencies for component StatisticsGen_TitanicBenchmark_benchmark\n",
      "I0630 18:16:20.070757 140205734782336 base_component.py:139]    ->  Component: ImportExampleGen_TitanicBenchmark_benchmark\n",
      "I0630 18:16:20.071994 140205734782336 base_component.py:137] Adding upstream dependencies for component SchemaGen_TitanicBenchmark_benchmark\n",
      "I0630 18:16:20.072110 140205734782336 base_component.py:139]    ->  Component: StatisticsGen_TitanicBenchmark_benchmark\n",
      "I0630 18:16:20.073652 140205734782336 base_component.py:137] Adding upstream dependencies for component Transform_TitanicBenchmark_benchmark\n",
      "I0630 18:16:20.073765 140205734782336 base_component.py:139]    ->  Component: ImportExampleGen_TitanicBenchmark_benchmark\n",
      "I0630 18:16:20.073857 140205734782336 base_component.py:139]    ->  Component: SchemaGen_TitanicBenchmark_benchmark\n",
      "I0630 18:16:20.075226 140205734782336 base_component.py:137] Adding upstream dependencies for component Trainer_TitanicBenchmark_benchmark\n",
      "I0630 18:16:20.075338 140205734782336 base_component.py:139]    ->  Component: Transform_TitanicBenchmark_benchmark\n",
      "I0630 18:16:20.075432 140205734782336 base_component.py:139]    ->  Component: SchemaGen_TitanicBenchmark_benchmark\n",
      "I0630 18:16:20.076921 140205734782336 base_component.py:137] Adding upstream dependencies for component Evaluator_TitanicBenchmark_benchmark\n",
      "I0630 18:16:20.077029 140205734782336 base_component.py:139]    ->  Component: ImportExampleGen_TitanicBenchmark_benchmark\n",
      "I0630 18:16:20.077116 140205734782336 base_component.py:139]    ->  Component: Trainer_TitanicBenchmark_benchmark\n",
      "I0630 18:16:20.078220 140205734782336 base_component.py:137] Adding upstream dependencies for component BenchmarkResultPublisher_TitanicBenchmark_benchmark\n",
      "I0630 18:16:20.078328 140205734782336 base_component.py:139]    ->  Component: Evaluator_TitanicBenchmark_benchmark\n",
      "Pipeline compiled successfully.\n",
      "Pipeline package path: /home/jupyter/AIHub/nitroml/nitroml_examples.tar.gz\n",
      "{'code_source_url': None,\n",
      " 'created_at': datetime.datetime(2020, 6, 30, 18, 16, 21, tzinfo=tzlocal()),\n",
      " 'id': '90aba2eb-7b25-4c2b-b4c8-140dd814aa93',\n",
      " 'name': 'nitroml_examples_20200630181621',\n",
      " 'package_url': None,\n",
      " 'parameters': [{'name': 'pipeline-root',\n",
      "                 'value': 'gs://artifacts.nitroml-brain-xgcp.appspot.com/nitroml_examples'}],\n",
      " 'resource_references': [{'key': {'id': '8ede4063-ba7a-4d5a-a19c-599dea58b55e',\n",
      "                                  'type': 'PIPELINE'},\n",
      "                          'name': None,\n",
      "                          'relationship': 'OWNER'}]}\n",
      "Please access the pipeline detail page at http://ee1a2cabbbc2f13-dot-us-east1.pipelines.googleusercontent.com/#/pipelines/details/8ede4063-ba7a-4d5a-a19c-599dea58b55e\n",
      "Pipeline \"nitroml_examples\" updated successfully.\n",
      "CLI\n",
      "Creating a run for pipeline: nitroml_examples\n",
      "Detected Kubeflow.\n",
      "Use --engine flag if you intend to use a different orchestrator.\n",
      "Run created for pipeline: nitroml_examples\n",
      "+------------------+--------------------------------------+----------+---------------------------+-------------------------------------------------------------------------------------------------------------------------+\n",
      "| pipeline_name    | run_id                               | status   | created_at                | link                                                                                                                    |\n",
      "+==================+======================================+==========+===========================+=========================================================================================================================+\n",
      "| nitroml_examples | f8ca6c6e-3c69-4519-980c-4e5f22f756c1 |          | 2020-06-30T18:16:27+00:00 | http://ee1a2cabbbc2f13-dot-us-east1.pipelines.googleusercontent.com/#/runs/details/f8ca6c6e-3c69-4519-980c-4e5f22f756c1 |\n",
      "+------------------+--------------------------------------+----------+---------------------------+-------------------------------------------------------------------------------------------------------------------------+\n"
     ]
    }
   ],
   "source": [
    "# If we update the pipeline\n",
    "!tfx pipeline update \\\n",
    "--pipeline-path=examples/titanic_benchmark.py \\\n",
    "--endpoint={ENDPOINT}\n",
    "\n",
    "!tfx run create --pipeline-name {PIPELINE_NAME} --endpoint={ENDPOINT}"
   ]
  },
  {
   "cell_type": "code",
   "execution_count": null,
   "metadata": {},
   "outputs": [],
   "source": []
  }
 ],
 "metadata": {
  "environment": {
   "name": "tf2-gpu.2-1.m48",
   "type": "gcloud",
   "uri": "gcr.io/deeplearning-platform-release/tf2-gpu.2-1:m48"
  },
  "kernelspec": {
   "display_name": "Python 3",
   "language": "python",
   "name": "python3"
  },
  "language_info": {
   "codemirror_mode": {
    "name": "ipython",
    "version": 3
   },
   "file_extension": ".py",
   "mimetype": "text/x-python",
   "name": "python",
   "nbconvert_exporter": "python",
   "pygments_lexer": "ipython3",
   "version": "3.7.6"
  }
 },
 "nbformat": 4,
 "nbformat_minor": 4
}
